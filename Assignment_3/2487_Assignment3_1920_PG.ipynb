{
 "cells": [
  {
   "cell_type": "markdown",
   "metadata": {},
   "source": [
    "# Assignment 3\n"
   ]
  },
  {
   "cell_type": "code",
   "execution_count": 1,
   "metadata": {},
   "outputs": [],
   "source": [
    "import pandas as pd\n",
    "import numpy as np\n",
    "import matplotlib.pyplot as plt\n",
    "\n",
    "import codecs\n",
    "\n",
    "from scipy.stats import ttest_ind\n",
    "import sys\n",
    "\n",
    "%matplotlib inline"
   ]
  },
  {
   "cell_type": "markdown",
   "metadata": {},
   "source": [
    "## Question 1 The “Business Decision”\n",
    "\n",
    "We consider the core decision of an MBA admissions committee: *which applicants should we accept in the MBA program?* The school is interested in predicting the MBA participant’s success in the future before offering admission. \n",
    "\n",
    "To make this decision, the committee uses a number of data about the applicants. Let us consider for example the following attributes in evaluating an MBA application (of course in practice many more can be considered):\n",
    "\n",
    "1. GPA\n",
    "2. GMAT score\n",
    "3. Scholarships, fellowships won\n",
    "4. Evidence of Communications skills (debating competition, personal interview score)\n",
    "5. Prior Job Experience\n",
    "6. Organizational Experience\n",
    "7. Other extra curricular achievements\n",
    "\n",
    "Let us assume that this data is converted into a numerical scale from 1-7. For example: a numerical rating may be given to the fellowships based on the prestige and the number of fellowships won. Job experience may be rated on the number of years on the job, with a numerical weighting for the level of the job in the managerial ladder.\n",
    "\n",
    "In particular, theory may suggest that there are really one or two basic factors (like intelligence and leadership skills) that lead to success in a management career. The various attributes are really different manifestations of these basic factors. But maybe there are other **hidden derived variables (factors)** in the data we have: instead of us manually combining raw attributes into meaningful derived ones, which not only is difficult with many data but also dangerous as we impose our biases, let’s get factor analysis to do the job for us - and use our intuition and judgment in the process."
   ]
  },
  {
   "cell_type": "code",
   "execution_count": 2,
   "metadata": {},
   "outputs": [
    {
     "data": {
      "text/html": [
       "<div>\n",
       "<style scoped>\n",
       "    .dataframe tbody tr th:only-of-type {\n",
       "        vertical-align: middle;\n",
       "    }\n",
       "\n",
       "    .dataframe tbody tr th {\n",
       "        vertical-align: top;\n",
       "    }\n",
       "\n",
       "    .dataframe thead th {\n",
       "        text-align: right;\n",
       "    }\n",
       "</style>\n",
       "<table border=\"1\" class=\"dataframe\">\n",
       "  <thead>\n",
       "    <tr style=\"text-align: right;\">\n",
       "      <th></th>\n",
       "      <th>GPA</th>\n",
       "      <th>GMAT</th>\n",
       "      <th>Fellow</th>\n",
       "      <th>Comm</th>\n",
       "      <th>Job.Ex</th>\n",
       "      <th>Organze</th>\n",
       "      <th>Extra</th>\n",
       "    </tr>\n",
       "  </thead>\n",
       "  <tbody>\n",
       "    <tr>\n",
       "      <th>count</th>\n",
       "      <td>20.000000</td>\n",
       "      <td>20.000000</td>\n",
       "      <td>20.000000</td>\n",
       "      <td>20.000000</td>\n",
       "      <td>20.000000</td>\n",
       "      <td>20.000000</td>\n",
       "      <td>20.000000</td>\n",
       "    </tr>\n",
       "    <tr>\n",
       "      <th>mean</th>\n",
       "      <td>3.305000</td>\n",
       "      <td>583.500000</td>\n",
       "      <td>2.450000</td>\n",
       "      <td>3.335000</td>\n",
       "      <td>4.250000</td>\n",
       "      <td>3.200000</td>\n",
       "      <td>3.300000</td>\n",
       "    </tr>\n",
       "    <tr>\n",
       "      <th>std</th>\n",
       "      <td>0.468452</td>\n",
       "      <td>119.440582</td>\n",
       "      <td>0.905248</td>\n",
       "      <td>0.489118</td>\n",
       "      <td>1.517442</td>\n",
       "      <td>0.734847</td>\n",
       "      <td>0.515037</td>\n",
       "    </tr>\n",
       "    <tr>\n",
       "      <th>min</th>\n",
       "      <td>2.500000</td>\n",
       "      <td>380.000000</td>\n",
       "      <td>1.000000</td>\n",
       "      <td>2.000000</td>\n",
       "      <td>2.000000</td>\n",
       "      <td>1.000000</td>\n",
       "      <td>2.400000</td>\n",
       "    </tr>\n",
       "    <tr>\n",
       "      <th>25%</th>\n",
       "      <td>2.800000</td>\n",
       "      <td>480.000000</td>\n",
       "      <td>2.000000</td>\n",
       "      <td>3.175000</td>\n",
       "      <td>3.000000</td>\n",
       "      <td>3.050000</td>\n",
       "      <td>2.875000</td>\n",
       "    </tr>\n",
       "    <tr>\n",
       "      <th>50%</th>\n",
       "      <td>3.450000</td>\n",
       "      <td>575.000000</td>\n",
       "      <td>2.800000</td>\n",
       "      <td>3.400000</td>\n",
       "      <td>5.000000</td>\n",
       "      <td>3.400000</td>\n",
       "      <td>3.400000</td>\n",
       "    </tr>\n",
       "    <tr>\n",
       "      <th>75%</th>\n",
       "      <td>3.625000</td>\n",
       "      <td>682.500000</td>\n",
       "      <td>3.000000</td>\n",
       "      <td>3.725000</td>\n",
       "      <td>5.250000</td>\n",
       "      <td>3.800000</td>\n",
       "      <td>3.800000</td>\n",
       "    </tr>\n",
       "    <tr>\n",
       "      <th>max</th>\n",
       "      <td>3.900000</td>\n",
       "      <td>760.000000</td>\n",
       "      <td>3.800000</td>\n",
       "      <td>3.900000</td>\n",
       "      <td>6.000000</td>\n",
       "      <td>3.900000</td>\n",
       "      <td>4.000000</td>\n",
       "    </tr>\n",
       "  </tbody>\n",
       "</table>\n",
       "</div>"
      ],
      "text/plain": [
       "             GPA        GMAT     Fellow       Comm     Job.Ex    Organze  \\\n",
       "count  20.000000   20.000000  20.000000  20.000000  20.000000  20.000000   \n",
       "mean    3.305000  583.500000   2.450000   3.335000   4.250000   3.200000   \n",
       "std     0.468452  119.440582   0.905248   0.489118   1.517442   0.734847   \n",
       "min     2.500000  380.000000   1.000000   2.000000   2.000000   1.000000   \n",
       "25%     2.800000  480.000000   2.000000   3.175000   3.000000   3.050000   \n",
       "50%     3.450000  575.000000   2.800000   3.400000   5.000000   3.400000   \n",
       "75%     3.625000  682.500000   3.000000   3.725000   5.250000   3.800000   \n",
       "max     3.900000  760.000000   3.800000   3.900000   6.000000   3.900000   \n",
       "\n",
       "           Extra  \n",
       "count  20.000000  \n",
       "mean    3.300000  \n",
       "std     0.515037  \n",
       "min     2.400000  \n",
       "25%     2.875000  \n",
       "50%     3.400000  \n",
       "75%     3.800000  \n",
       "max     4.000000  "
      ]
     },
     "execution_count": 2,
     "metadata": {},
     "output_type": "execute_result"
    }
   ],
   "source": [
    "mba_info = pd.read_csv('MBAadmin.csv')\n",
    "mba_info.describe()"
   ]
  },
  {
   "cell_type": "code",
   "execution_count": 3,
   "metadata": {},
   "outputs": [
    {
     "name": "stdout",
     "output_type": "stream",
     "text": [
      "<class 'pandas.core.frame.DataFrame'>\n",
      "RangeIndex: 20 entries, 0 to 19\n",
      "Data columns (total 7 columns):\n",
      "GPA        20 non-null float64\n",
      "GMAT       20 non-null int64\n",
      "Fellow     20 non-null float64\n",
      "Comm       20 non-null float64\n",
      "Job.Ex     20 non-null int64\n",
      "Organze    20 non-null float64\n",
      "Extra      20 non-null float64\n",
      "dtypes: float64(5), int64(2)\n",
      "memory usage: 1.2 KB\n"
     ]
    }
   ],
   "source": [
    "mba_info.info()"
   ]
  },
  {
   "cell_type": "markdown",
   "metadata": {},
   "source": [
    "### Question 1.1 (10 points)\n",
    "Read the data from MBAadmin.csv and check the descriptive statistics of the data. **Implement yourself the principal component analysis** and derive 2 principal components and show how much of the variances can be explained by these 2 principal components."
   ]
  },
  {
   "cell_type": "code",
   "execution_count": 4,
   "metadata": {},
   "outputs": [],
   "source": [
    "#from sklearn.preprocessing import StandardScaler\n",
    "# Standardizing the variables by removing the mean and scaling to unit variance\n",
    "#mba_info = StandardScaler().fit_transform(mba_info)\n"
   ]
  },
  {
   "cell_type": "code",
   "execution_count": 4,
   "metadata": {},
   "outputs": [],
   "source": [
    "mba_info_transform =pd.DataFrame( mba_info - mba_info.mean(axis=0),\n",
    "                                 columns=[\"GPA\",\"GMAT\",\"Fellow\",\"Comm\",\"Job.Ex\",\"Organze\",\"Extra\"])"
   ]
  },
  {
   "cell_type": "code",
   "execution_count": 5,
   "metadata": {},
   "outputs": [],
   "source": [
    "## covarinace matrix\n",
    "mba_info_cov = np.cov(mba_info_transform.T)\n",
    "## Compute the eigenvalues and right eigenvectors of a square array.\n",
    "eigenvalue, eigenvector = np.linalg.eig(mba_info_cov)"
   ]
  },
  {
   "cell_type": "code",
   "execution_count": 6,
   "metadata": {},
   "outputs": [],
   "source": [
    "## select the first 2 principal components\n",
    "PCs = eigenvector[:,:2].T"
   ]
  },
  {
   "cell_type": "code",
   "execution_count": 7,
   "metadata": {},
   "outputs": [],
   "source": [
    "subspace = mba_info_transform.dot(PCs.T)"
   ]
  },
  {
   "cell_type": "code",
   "execution_count": 8,
   "metadata": {},
   "outputs": [
    {
     "data": {
      "image/png": "[encoded data removed]",
      "text/plain": [
       "<Figure size 576x432 with 1 Axes>"
      ]
     },
     "metadata": {
      "needs_background": "light"
     },
     "output_type": "display_data"
    }
   ],
   "source": [
    "\n",
    "\n",
    "fig = plt.figure(figsize = (8,6))\n",
    "ax = fig.add_subplot(1,1,1) \n",
    "ax.set_xlabel('Principal Component 1', fontsize = 15)\n",
    "ax.set_ylabel('Principal Component 2', fontsize = 15)\n",
    "ax.set_title('2 component PCA', fontsize = 20)\n",
    "ax.scatter(subspace.iloc[:, 0], subspace.iloc[:, 1], c = 'b', s = 50)\n",
    "\n",
    "ax.grid()\n"
   ]
  },
  {
   "cell_type": "code",
   "execution_count": 9,
   "metadata": {},
   "outputs": [
    {
     "name": "stdout",
     "output_type": "stream",
     "text": [
      "Explained variance : 0.99996\n"
     ]
    }
   ],
   "source": [
    "print(\"Explained variance : {0:1.5f}\".format(np.sum(eigenvalue[:2])/np.sum(eigenvalue)))"
   ]
  },
  {
   "cell_type": "markdown",
   "metadata": {},
   "source": [
    "### Question 1.2 (10 points)\n",
    "\n",
    "Now use the sklearn.decomposition.PCA to perform principal component analysis on the data and explain which number of principal components should be chosen using Elbow method. "
   ]
  },
  {
   "cell_type": "code",
   "execution_count": 10,
   "metadata": {},
   "outputs": [],
   "source": [
    "from sklearn.decomposition import PCA\n",
    "pca = PCA(n_components=len(mba_info_transform.columns))\n",
    "principalComponents = pca.fit(mba_info)\n",
    "PCA_Var = pd.Series( principalComponents.explained_variance_ratio_)\n"
   ]
  },
  {
   "cell_type": "code",
   "execution_count": 11,
   "metadata": {},
   "outputs": [
    {
     "data": {
      "text/plain": [
       "0    9.997768e-01\n",
       "1    1.837534e-04\n",
       "2    1.713751e-05\n",
       "3    1.062523e-05\n",
       "4    6.447387e-06\n",
       "5    4.220630e-06\n",
       "6    9.948852e-07\n",
       "dtype: float64"
      ]
     },
     "execution_count": 11,
     "metadata": {},
     "output_type": "execute_result"
    }
   ],
   "source": [
    "PCA_Var"
   ]
  },
  {
   "cell_type": "code",
   "execution_count": 12,
   "metadata": {},
   "outputs": [
    {
     "data": {
      "image/png": "[encoded data removed]",
      "text/plain": [
       "<Figure size 576x432 with 1 Axes>"
      ]
     },
     "metadata": {
      "needs_background": "light"
     },
     "output_type": "display_data"
    }
   ],
   "source": [
    "fig = plt.figure(figsize = (8,6))\n",
    "ax = fig.add_subplot(1,1,1) \n",
    "ax.set_title('PCA Elbow Curve', fontsize = 20)\n",
    "ax.plot(PCA_Var.cumsum(), c = \"blue\")\n",
    "plt.xticks(np.arange(len(list(PCA_Var.index))), np.arange(len(list(PCA_Var.index)))+1)\n",
    "\n",
    "ax.annotate(\"Elbow\", xy=(1.25,  PCA_Var.cumsum()[1]),\n",
    "            xytext=(2, 0.99995), arrowprops=dict(facecolor='orange', width = 3),fontsize=15)\n",
    "ax.grid()\n",
    "plt.show()"
   ]
  },
  {
   "cell_type": "markdown",
   "metadata": {},
   "source": [
    "The cumulative sum of the explained variance from the PCA. The first and the second principal components explain already  99.996%, thus by reducing the dimension to 2, it captures most of the useful information to select the right candidates."
   ]
  },
  {
   "cell_type": "markdown",
   "metadata": {},
   "source": [
    "## Question 2 Customer Segmentation\n",
    "\n",
    "The management team of a large shopping mall would like to understand the types of people who are, or could be, visiting their mall. They have good reasons to believe that there are a few different market segments, and they are considering designing and positioning the shopping mall services better in order to attract mainly a few profitable market segments, or to differentiate their services (e.g. invitations to events, discounts, etc) across market segments.\n",
    "\n",
    "We aim to describe attitudes of people to shopping in a shopping mall using a small dataset. To make these decisions, the management team run a market research survey of a few potential customers. In this case this was a small survey to only a few people, where each person answered six attitudinal questions and a question regarding how often they visit the mall, all on a scale 1-7, as well as one question regarding their household income:\n",
    "\n",
    "| Name        | Name           | Name  |\n",
    "| ------------- |:-------------:| -----:|\n",
    "| V1     | Shopping is fun | 1-7 |\n",
    "| V2      | Shopping is bad for your budget      |  1-7 |\n",
    "| V3 | I combine shopping with eating out      |    1-7 |\n",
    "| V4     | I try to get the best buys while shopping | 1-7 |\n",
    "| V5      | I don’t care about shopping      |  1-7 |\n",
    "| V6 | You can save lot of money by comparing prices      |    1-7 |\n",
    "| Income      | The household income of the respondent      |  Dollars |\n",
    "| Mall.Visits | How often they visit the mall      |    1-7 |\n"
   ]
  },
  {
   "cell_type": "code",
   "execution_count": 13,
   "metadata": {},
   "outputs": [
    {
     "data": {
      "text/html": [
       "<div>\n",
       "<style scoped>\n",
       "    .dataframe tbody tr th:only-of-type {\n",
       "        vertical-align: middle;\n",
       "    }\n",
       "\n",
       "    .dataframe tbody tr th {\n",
       "        vertical-align: top;\n",
       "    }\n",
       "\n",
       "    .dataframe thead th {\n",
       "        text-align: right;\n",
       "    }\n",
       "</style>\n",
       "<table border=\"1\" class=\"dataframe\">\n",
       "  <thead>\n",
       "    <tr style=\"text-align: right;\">\n",
       "      <th></th>\n",
       "      <th>ID</th>\n",
       "      <th>V1</th>\n",
       "      <th>V2</th>\n",
       "      <th>V3</th>\n",
       "      <th>V4</th>\n",
       "      <th>V5</th>\n",
       "      <th>V6</th>\n",
       "      <th>Income</th>\n",
       "      <th>Mall.Visits</th>\n",
       "    </tr>\n",
       "  </thead>\n",
       "  <tbody>\n",
       "    <tr>\n",
       "      <th>count</th>\n",
       "      <td>40.000000</td>\n",
       "      <td>40.000000</td>\n",
       "      <td>40.000000</td>\n",
       "      <td>40.000000</td>\n",
       "      <td>40.000000</td>\n",
       "      <td>40.0000</td>\n",
       "      <td>40.000000</td>\n",
       "      <td>40.00000</td>\n",
       "      <td>40.00000</td>\n",
       "    </tr>\n",
       "    <tr>\n",
       "      <th>mean</th>\n",
       "      <td>20.500000</td>\n",
       "      <td>3.850000</td>\n",
       "      <td>4.100000</td>\n",
       "      <td>3.950000</td>\n",
       "      <td>4.100000</td>\n",
       "      <td>3.4500</td>\n",
       "      <td>4.350000</td>\n",
       "      <td>46000.00000</td>\n",
       "      <td>3.25000</td>\n",
       "    </tr>\n",
       "    <tr>\n",
       "      <th>std</th>\n",
       "      <td>11.690452</td>\n",
       "      <td>1.874936</td>\n",
       "      <td>1.392286</td>\n",
       "      <td>1.986493</td>\n",
       "      <td>1.498717</td>\n",
       "      <td>1.7387</td>\n",
       "      <td>1.477177</td>\n",
       "      <td>17216.56924</td>\n",
       "      <td>1.94475</td>\n",
       "    </tr>\n",
       "    <tr>\n",
       "      <th>min</th>\n",
       "      <td>1.000000</td>\n",
       "      <td>1.000000</td>\n",
       "      <td>2.000000</td>\n",
       "      <td>1.000000</td>\n",
       "      <td>2.000000</td>\n",
       "      <td>1.0000</td>\n",
       "      <td>2.000000</td>\n",
       "      <td>25000.00000</td>\n",
       "      <td>0.00000</td>\n",
       "    </tr>\n",
       "    <tr>\n",
       "      <th>25%</th>\n",
       "      <td>10.750000</td>\n",
       "      <td>2.000000</td>\n",
       "      <td>3.000000</td>\n",
       "      <td>2.000000</td>\n",
       "      <td>3.000000</td>\n",
       "      <td>2.0000</td>\n",
       "      <td>3.000000</td>\n",
       "      <td>30000.00000</td>\n",
       "      <td>2.00000</td>\n",
       "    </tr>\n",
       "    <tr>\n",
       "      <th>50%</th>\n",
       "      <td>20.500000</td>\n",
       "      <td>4.000000</td>\n",
       "      <td>4.000000</td>\n",
       "      <td>4.000000</td>\n",
       "      <td>4.000000</td>\n",
       "      <td>3.5000</td>\n",
       "      <td>4.000000</td>\n",
       "      <td>42500.00000</td>\n",
       "      <td>3.00000</td>\n",
       "    </tr>\n",
       "    <tr>\n",
       "      <th>75%</th>\n",
       "      <td>30.250000</td>\n",
       "      <td>5.250000</td>\n",
       "      <td>5.000000</td>\n",
       "      <td>6.000000</td>\n",
       "      <td>5.250000</td>\n",
       "      <td>4.2500</td>\n",
       "      <td>5.250000</td>\n",
       "      <td>60000.00000</td>\n",
       "      <td>4.25000</td>\n",
       "    </tr>\n",
       "    <tr>\n",
       "      <th>max</th>\n",
       "      <td>40.000000</td>\n",
       "      <td>7.000000</td>\n",
       "      <td>7.000000</td>\n",
       "      <td>7.000000</td>\n",
       "      <td>7.000000</td>\n",
       "      <td>7.0000</td>\n",
       "      <td>7.000000</td>\n",
       "      <td>80000.00000</td>\n",
       "      <td>7.00000</td>\n",
       "    </tr>\n",
       "  </tbody>\n",
       "</table>\n",
       "</div>"
      ],
      "text/plain": [
       "              ID         V1         V2         V3         V4       V5  \\\n",
       "count  40.000000  40.000000  40.000000  40.000000  40.000000  40.0000   \n",
       "mean   20.500000   3.850000   4.100000   3.950000   4.100000   3.4500   \n",
       "std    11.690452   1.874936   1.392286   1.986493   1.498717   1.7387   \n",
       "min     1.000000   1.000000   2.000000   1.000000   2.000000   1.0000   \n",
       "25%    10.750000   2.000000   3.000000   2.000000   3.000000   2.0000   \n",
       "50%    20.500000   4.000000   4.000000   4.000000   4.000000   3.5000   \n",
       "75%    30.250000   5.250000   5.000000   6.000000   5.250000   4.2500   \n",
       "max    40.000000   7.000000   7.000000   7.000000   7.000000   7.0000   \n",
       "\n",
       "              V6       Income  Mall.Visits  \n",
       "count  40.000000     40.00000     40.00000  \n",
       "mean    4.350000  46000.00000      3.25000  \n",
       "std     1.477177  17216.56924      1.94475  \n",
       "min     2.000000  25000.00000      0.00000  \n",
       "25%     3.000000  30000.00000      2.00000  \n",
       "50%     4.000000  42500.00000      3.00000  \n",
       "75%     5.250000  60000.00000      4.25000  \n",
       "max     7.000000  80000.00000      7.00000  "
      ]
     },
     "execution_count": 13,
     "metadata": {},
     "output_type": "execute_result"
    }
   ],
   "source": [
    "mall = pd.read_csv('Mall_Visits.csv')\n",
    "mall.describe()"
   ]
  },
  {
   "cell_type": "code",
   "execution_count": 14,
   "metadata": {},
   "outputs": [
    {
     "name": "stdout",
     "output_type": "stream",
     "text": [
      "<class 'pandas.core.frame.DataFrame'>\n",
      "RangeIndex: 40 entries, 0 to 39\n",
      "Data columns (total 9 columns):\n",
      "ID             40 non-null int64\n",
      "V1             40 non-null int64\n",
      "V2             40 non-null int64\n",
      "V3             40 non-null int64\n",
      "V4             40 non-null int64\n",
      "V5             40 non-null int64\n",
      "V6             40 non-null int64\n",
      "Income         40 non-null int64\n",
      "Mall.Visits    40 non-null int64\n",
      "dtypes: int64(9)\n",
      "memory usage: 2.9 KB\n"
     ]
    }
   ],
   "source": [
    "mall.info()"
   ]
  },
  {
   "cell_type": "markdown",
   "metadata": {},
   "source": [
    "### Question 2.1 (10 points) \n",
    "\n",
    "Perform customer segmentation using k-Means algorithm by setting k=1. What can we infer from customer segmentation with one cluster? Explain this using the obtained centroid of cluster."
   ]
  },
  {
   "cell_type": "code",
   "execution_count": 15,
   "metadata": {},
   "outputs": [],
   "source": [
    "from sklearn.cluster import KMeans"
   ]
  },
  {
   "cell_type": "code",
   "execution_count": 16,
   "metadata": {},
   "outputs": [],
   "source": [
    "K_fit = KMeans(n_clusters=1).fit(mall.drop(\"ID\",axis=1)) ## k=1"
   ]
  },
  {
   "cell_type": "code",
   "execution_count": 17,
   "metadata": {},
   "outputs": [
    {
     "data": {
      "text/plain": [
       "array([[3.85e+00, 4.10e+00, 3.95e+00, 4.10e+00, 3.45e+00, 4.35e+00,\n",
       "        4.60e+04, 3.25e+00]])"
      ]
     },
     "execution_count": 17,
     "metadata": {},
     "output_type": "execute_result"
    }
   ],
   "source": [
    "(K_fit.cluster_centers_).astype('float64')"
   ]
  },
  {
   "cell_type": "markdown",
   "metadata": {},
   "source": [
    "Set the number of cluster to be 1, the alghoritm returns exactly the mean value. Thus the segment with the values of each feature represented at the clucster centroid."
   ]
  },
  {
   "cell_type": "markdown",
   "metadata": {},
   "source": [
    "### Question 2.2 (10 points)\n",
    "\n",
    "Now perform customer segmentation by setting the number of k to be 3. Explain the obtained clusters. Check the distribution of each feature across the clusters and see whether these features are statisically significantly different from each other. "
   ]
  },
  {
   "cell_type": "code",
   "execution_count": 24,
   "metadata": {},
   "outputs": [],
   "source": [
    "#from sklearn.preprocessing import StandardScaler\n",
    "list_name_col=list(mall.columns)[1:]\n",
    "# Standardizing the variables by removing the mean and scaling to unit variance\n",
    "#mall = StandardScaler().fit_transform(mall.drop(\"ID\",axis=1))\n",
    "# mall_X=pd.DataFrame(mall, columns=list_name_col)"
   ]
  },
  {
   "cell_type": "code",
   "execution_count": 25,
   "metadata": {},
   "outputs": [
    {
     "data": {
      "text/plain": [
       "0    20\n",
       "1    12\n",
       "2     8\n",
       "dtype: int64"
      ]
     },
     "execution_count": 25,
     "metadata": {},
     "output_type": "execute_result"
    }
   ],
   "source": [
    "K_fit_3 = KMeans(n_clusters=3).fit(mall.drop(\"ID\",axis=1)) ## k=3\n",
    "\n",
    "## counts of labels \n",
    "pd.Series(K_fit_3.labels_).value_counts()"
   ]
  },
  {
   "cell_type": "code",
   "execution_count": 26,
   "metadata": {},
   "outputs": [
    {
     "data": {
      "text/plain": [
       "0    50.0%\n",
       "1    30.0%\n",
       "2    20.0%\n",
       "dtype: object"
      ]
     },
     "execution_count": 26,
     "metadata": {},
     "output_type": "execute_result"
    }
   ],
   "source": [
    "## % of counts of labels\n",
    "(pd.Series(K_fit_3.labels_).value_counts()/len(K_fit_3.labels_)*100).astype(\"str\")+\"%\""
   ]
  },
  {
   "cell_type": "code",
   "execution_count": 21,
   "metadata": {},
   "outputs": [
    {
     "data": {
      "text/plain": [
       "ID                20.50\n",
       "V1                 3.85\n",
       "V2                 4.10\n",
       "V3                 3.95\n",
       "V4                 4.10\n",
       "V5                 3.45\n",
       "V6                 4.35\n",
       "Income         46000.00\n",
       "Mall.Visits        3.25\n",
       "Name: mean, dtype: float64"
      ]
     },
     "execution_count": 21,
     "metadata": {},
     "output_type": "execute_result"
    }
   ],
   "source": [
    "mall.describe().loc['mean']"
   ]
  },
  {
   "cell_type": "code",
   "execution_count": 22,
   "metadata": {},
   "outputs": [],
   "source": [
    "float_formatter = lambda x: \"%.2f\" % x\n",
    "np.set_printoptions(formatter={'float_kind':float_formatter})"
   ]
  },
  {
   "cell_type": "code",
   "execution_count": 23,
   "metadata": {},
   "outputs": [
    {
     "name": "stdout",
     "output_type": "stream",
     "text": [
      "             Customer Segment 0  Customer Segment 1  Customer Segment 2\n",
      "V1                          2.8                4.50            5.166667\n",
      "V2                          4.6                3.25            3.833333\n",
      "V3                          2.6                5.50            5.166667\n",
      "V4                          5.2                3.00            3.000000\n",
      "V5                          4.2                3.00            2.500000\n",
      "V6                          4.9                3.75            3.833333\n",
      "Income                  31000.0            71250.00        54166.666667\n",
      "Mall.Visits                 3.8                2.50            2.833333\n"
     ]
    }
   ],
   "source": [
    "res=pd.DataFrame([K_fit_3.cluster_centers_[0], K_fit_3.cluster_centers_[1],K_fit_3.cluster_centers_[2]]).T\n",
    "res.columns=[\"Customer Segment 0\",\"Customer Segment 1\",\"Customer Segment 2\"]\n",
    "res.index=list_name_col\n",
    "print(res)"
   ]
  },
  {
   "cell_type": "markdown",
   "metadata": {},
   "source": [
    "0. Customer segment 0 represent 30% of all customer household income closer to the mean. They strongly belive that shopping is fun as such they most likely will do that (V1=5.17 and V5=2.5), they also avoid to check for discount opportunity (V6=3.83);\n",
    "\n",
    "\n",
    "1. Customer segment 1 represent 50% of all customer base who have have the low household income. Indeed, they do not see shopping as a priority (V1=2.8 and V5=4.2, V3=2.6) and they concern get the best purchases among the main-stream brend (low cost) (V4=5.2);\n",
    "\n",
    "\n",
    "2. Customer segment 2 represent 20% of all customer base who have the high-level household income. They often enjoy the shopping and probably they do not care of the impact of the total bill on their finance wealth (V2=3.25). Furthermore, they match dining outside with shopping (V3=5.5). Their vist are not that frequent in the mall, probably because they prefer high quality shops that are not located in main streams mall (V2=2.5)."
   ]
  },
  {
   "cell_type": "code",
   "execution_count": 25,
   "metadata": {},
   "outputs": [],
   "source": [
    "def stat_significance():\n",
    "    n=input(\"Enter costumer segment (between 0 and 2): \")\n",
    "    m=input(\"Enter costumer segment (between 0 and 2): \")\n",
    "    if n==m:\n",
    "        print(\"ERROR: costumer segments are identical!\")\n",
    "        sys.exit()\n",
    "        \n",
    "    else: \n",
    "        mall[\"label\"]=pd.Series(K_fit_3.labels_)\n",
    "        columns=list(mall.drop([\"ID\",\"label\"],axis=1).columns)\n",
    "        \n",
    "        t_test_res = {}\n",
    "\n",
    "        for column in columns:\n",
    "            segment1 = mall[mall.label==int(n)][column]\n",
    "            segment2 = mall[mall.label==int(m)][column]\n",
    "\n",
    "            t_test_res[column] = ttest_ind(segment1, segment2)\n",
    "\n",
    "        df = pd.DataFrame.from_dict(t_test_res, orient='Index')\n",
    "        df['Significant_at_5%'] = df.iloc[:,1] <= 0.05\n",
    "        df.columns = ['stat','p-value', \"Significance\"]  \n",
    "    return df"
   ]
  },
  {
   "cell_type": "code",
   "execution_count": 26,
   "metadata": {},
   "outputs": [
    {
     "name": "stdout",
     "output_type": "stream",
     "text": [
      "Enter costumer segment (between 0 and 2): 0\n",
      "Enter costumer segment (between 0 and 2): 2\n"
     ]
    },
    {
     "data": {
      "text/html": [
       "<div>\n",
       "<style scoped>\n",
       "    .dataframe tbody tr th:only-of-type {\n",
       "        vertical-align: middle;\n",
       "    }\n",
       "\n",
       "    .dataframe tbody tr th {\n",
       "        vertical-align: top;\n",
       "    }\n",
       "\n",
       "    .dataframe thead th {\n",
       "        text-align: right;\n",
       "    }\n",
       "</style>\n",
       "<table border=\"1\" class=\"dataframe\">\n",
       "  <thead>\n",
       "    <tr style=\"text-align: right;\">\n",
       "      <th></th>\n",
       "      <th>stat</th>\n",
       "      <th>p-value</th>\n",
       "      <th>Significance</th>\n",
       "    </tr>\n",
       "  </thead>\n",
       "  <tbody>\n",
       "    <tr>\n",
       "      <th>V1</th>\n",
       "      <td>-3.082104</td>\n",
       "      <td>4.817447e-03</td>\n",
       "      <td>True</td>\n",
       "    </tr>\n",
       "    <tr>\n",
       "      <th>V2</th>\n",
       "      <td>2.155099</td>\n",
       "      <td>4.059163e-02</td>\n",
       "      <td>True</td>\n",
       "    </tr>\n",
       "    <tr>\n",
       "      <th>V3</th>\n",
       "      <td>-5.403109</td>\n",
       "      <td>1.163485e-05</td>\n",
       "      <td>True</td>\n",
       "    </tr>\n",
       "    <tr>\n",
       "      <th>V4</th>\n",
       "      <td>4.800794</td>\n",
       "      <td>5.685806e-05</td>\n",
       "      <td>True</td>\n",
       "    </tr>\n",
       "    <tr>\n",
       "      <th>V5</th>\n",
       "      <td>1.901026</td>\n",
       "      <td>6.843773e-02</td>\n",
       "      <td>False</td>\n",
       "    </tr>\n",
       "    <tr>\n",
       "      <th>V6</th>\n",
       "      <td>1.660048</td>\n",
       "      <td>1.089197e-01</td>\n",
       "      <td>False</td>\n",
       "    </tr>\n",
       "    <tr>\n",
       "      <th>Income</th>\n",
       "      <td>-17.158908</td>\n",
       "      <td>1.065245e-15</td>\n",
       "      <td>True</td>\n",
       "    </tr>\n",
       "    <tr>\n",
       "      <th>Mall.Visits</th>\n",
       "      <td>1.439328</td>\n",
       "      <td>1.619894e-01</td>\n",
       "      <td>False</td>\n",
       "    </tr>\n",
       "  </tbody>\n",
       "</table>\n",
       "</div>"
      ],
      "text/plain": [
       "                  stat       p-value  Significance\n",
       "V1           -3.082104  4.817447e-03          True\n",
       "V2            2.155099  4.059163e-02          True\n",
       "V3           -5.403109  1.163485e-05          True\n",
       "V4            4.800794  5.685806e-05          True\n",
       "V5            1.901026  6.843773e-02         False\n",
       "V6            1.660048  1.089197e-01         False\n",
       "Income      -17.158908  1.065245e-15          True\n",
       "Mall.Visits   1.439328  1.619894e-01         False"
      ]
     },
     "execution_count": 26,
     "metadata": {},
     "output_type": "execute_result"
    }
   ],
   "source": [
    "stat_significance()"
   ]
  },
  {
   "cell_type": "markdown",
   "metadata": {},
   "source": [
    "General knowledge: A p-value less than 0.05 (typically ≤ 0.05) is statistically significant. It indicates strong evidence against the null hypothesis, as there is less than a 5% probability the null is correct (and the results are random). Therefore, we reject the null hypothesis, and accept the alternative hypothesis.\n",
    "H0: The null hypothesis states that there is no relationship between the two variables being studied (one variable does not affect the other).\n",
    "\n",
    "By looking at the p-value from the table above, all of the features are statistically significant diferent from zero except for the variable _Income_.  \n",
    "(Customer segments: 0 and 2)\n",
    "\n",
    "\n",
    "Note: this conclusion might be different respect the two costumers segments selected. "
   ]
  },
  {
   "cell_type": "markdown",
   "metadata": {},
   "source": [
    "### Question 2.3 (10 points)\n",
    "\n",
    "Now perform customer segmentation by setting the number of k using the Elbow method and Silhouette score, respectively. Explain what would be the k you get from two methods."
   ]
  },
  {
   "cell_type": "code",
   "execution_count": 27,
   "metadata": {},
   "outputs": [],
   "source": [
    "#!pip install yellowbrick"
   ]
  },
  {
   "cell_type": "code",
   "execution_count": 28,
   "metadata": {},
   "outputs": [],
   "source": [
    "from yellowbrick.cluster import KElbowVisualizer"
   ]
  },
  {
   "cell_type": "code",
   "execution_count": 29,
   "metadata": {},
   "outputs": [
    {
     "data": {
      "image/png": "[encoded data removed]",
      "text/plain": [
       "<Figure size 576x396 with 1 Axes>"
      ]
     },
     "metadata": {},
     "output_type": "display_data"
    },
    {
     "data": {
      "text/plain": [
       "<matplotlib.axes._subplots.AxesSubplot at 0x16cb4f6e4a8>"
      ]
     },
     "execution_count": 29,
     "metadata": {},
     "output_type": "execute_result"
    }
   ],
   "source": [
    "# Instantiate the clustering model and visualizer\n",
    "model = KMeans()\n",
    "visualizer = KElbowVisualizer(model, k=(2,15),timings=False)\n",
    "\n",
    "visualizer.fit(mall.drop(\"ID\",axis=1))    # Fit the data to the visualizer\n",
    "visualizer.poof()    # Draw/show/poof the data"
   ]
  },
  {
   "cell_type": "code",
   "execution_count": 30,
   "metadata": {},
   "outputs": [
    {
     "data": {
      "image/png": "[encoded data removed]",
      "text/plain": [
       "<Figure size 576x396 with 1 Axes>"
      ]
     },
     "metadata": {},
     "output_type": "display_data"
    },
    {
     "data": {
      "text/plain": [
       "<matplotlib.axes._subplots.AxesSubplot at 0x16cb08936d8>"
      ]
     },
     "execution_count": 30,
     "metadata": {},
     "output_type": "execute_result"
    }
   ],
   "source": [
    "# Instantiate the clustering model and visualizer\n",
    "model = KMeans()\n",
    "visualizer = KElbowVisualizer(\n",
    "    model, k=(2,15), metric='silhouette', timings=False\n",
    ")\n",
    "\n",
    "visualizer.fit(mall.drop(\"ID\",axis=1))    # Fit the data to the visualizer\n",
    "visualizer.poof()    # Draw/show/poof the data"
   ]
  },
  {
   "cell_type": "markdown",
   "metadata": {},
   "source": [
    "The optimal number of cluster selected by \"Elbow method\" is either 4 or 5(automatically selected by the function).\n",
    "While the one selected using the \"silhouette score\" is 10 which diverge substantially from the one choosed by the function (k= 5), which suggests that data is not very clustered.  Nonetheless, there are several limitations of unsupervised learning so find the optimal number of clusters is not always straighforward."
   ]
  },
  {
   "cell_type": "markdown",
   "metadata": {},
   "source": [
    "## Question 3 Birds of a feather laugh together\n",
    "\n",
    "Jester is a research project from the UC Berkeley Laboratory for Automation Science and Engineering. Users are asked to rate the jokes they read and may see more similar jokes. The dataset `jester_dataset.zip`, when unzipped, they are in Excel (.xls) format that contains ratings from 23,500 users who have rated 36 or more jokes. Ratings are real values ranging from -10.00 to +10.00 (the value \"99\" corresponds to \"null\" = \"not rated\"). The text of the jokes is given `jester_dataset_joke_text.zip`. The first column gives the number of jokes rated by that user. The next 100 columns give the ratings for jokes 01 - 100."
   ]
  },
  {
   "cell_type": "code",
   "execution_count": 31,
   "metadata": {},
   "outputs": [],
   "source": [
    "import io\n",
    "import zipfile\n",
    "directory_to_extract_to=\"C:/Users/Pierfrancesco/Desktop/Machine_Learning/Assignment_3\""
   ]
  },
  {
   "cell_type": "code",
   "execution_count": 32,
   "metadata": {},
   "outputs": [],
   "source": [
    "\n",
    "path_to_zip_file=\"C:/Users/Pierfrancesco/Desktop/Machine_Learning/Assignment_3/jester_dataset.zip\"\n",
    "\n",
    "with zipfile.ZipFile(path_to_zip_file, 'r') as zip_ref:\n",
    "    zip_ref.extractall(directory_to_extract_to)"
   ]
  },
  {
   "cell_type": "code",
   "execution_count": 33,
   "metadata": {},
   "outputs": [],
   "source": [
    "path_to_zip_file=\"C:/Users/Pierfrancesco/Desktop/Machine_Learning/Assignment_3/jester_dataset_joke_texts.zip\"\n",
    "with zipfile.ZipFile(path_to_zip_file, 'r') as zip_ref:\n",
    "    zip_ref.extractall(directory_to_extract_to)"
   ]
  },
  {
   "cell_type": "code",
   "execution_count": 27,
   "metadata": {},
   "outputs": [
    {
     "name": "stdout",
     "output_type": "stream",
     "text": [
      "<class 'pandas.core.frame.DataFrame'>\n",
      "RangeIndex: 23500 entries, 0 to 23499\n",
      "Columns: 101 entries, 0 to 100\n",
      "dtypes: float64(100), int64(1)\n",
      "memory usage: 18.1 MB\n"
     ]
    }
   ],
   "source": [
    "jester = pd.read_excel('jester-data-2.xls', header=None)\n",
    "jester.info()"
   ]
  },
  {
   "cell_type": "code",
   "execution_count": 28,
   "metadata": {},
   "outputs": [
    {
     "data": {
      "text/html": [
       "<div>\n",
       "<style scoped>\n",
       "    .dataframe tbody tr th:only-of-type {\n",
       "        vertical-align: middle;\n",
       "    }\n",
       "\n",
       "    .dataframe tbody tr th {\n",
       "        vertical-align: top;\n",
       "    }\n",
       "\n",
       "    .dataframe thead th {\n",
       "        text-align: right;\n",
       "    }\n",
       "</style>\n",
       "<table border=\"1\" class=\"dataframe\">\n",
       "  <thead>\n",
       "    <tr style=\"text-align: right;\">\n",
       "      <th></th>\n",
       "      <th>count</th>\n",
       "      <th>mean</th>\n",
       "      <th>std</th>\n",
       "      <th>min</th>\n",
       "      <th>25%</th>\n",
       "      <th>50%</th>\n",
       "      <th>75%</th>\n",
       "      <th>max</th>\n",
       "    </tr>\n",
       "  </thead>\n",
       "  <tbody>\n",
       "    <tr>\n",
       "      <th>0</th>\n",
       "      <td>23500.0</td>\n",
       "      <td>72.723106</td>\n",
       "      <td>21.980057</td>\n",
       "      <td>36.00</td>\n",
       "      <td>53.00</td>\n",
       "      <td>72.00</td>\n",
       "      <td>100.00</td>\n",
       "      <td>100.0</td>\n",
       "    </tr>\n",
       "    <tr>\n",
       "      <th>1</th>\n",
       "      <td>23500.0</td>\n",
       "      <td>34.263034</td>\n",
       "      <td>46.678832</td>\n",
       "      <td>-9.95</td>\n",
       "      <td>-0.15</td>\n",
       "      <td>5.29</td>\n",
       "      <td>99.00</td>\n",
       "      <td>99.0</td>\n",
       "    </tr>\n",
       "    <tr>\n",
       "      <th>2</th>\n",
       "      <td>23500.0</td>\n",
       "      <td>27.652229</td>\n",
       "      <td>44.594358</td>\n",
       "      <td>-9.95</td>\n",
       "      <td>-2.28</td>\n",
       "      <td>3.79</td>\n",
       "      <td>99.00</td>\n",
       "      <td>99.0</td>\n",
       "    </tr>\n",
       "    <tr>\n",
       "      <th>3</th>\n",
       "      <td>23500.0</td>\n",
       "      <td>32.670040</td>\n",
       "      <td>46.724580</td>\n",
       "      <td>-9.95</td>\n",
       "      <td>-1.65</td>\n",
       "      <td>4.37</td>\n",
       "      <td>99.00</td>\n",
       "      <td>99.0</td>\n",
       "    </tr>\n",
       "    <tr>\n",
       "      <th>4</th>\n",
       "      <td>23500.0</td>\n",
       "      <td>35.353705</td>\n",
       "      <td>48.535436</td>\n",
       "      <td>-9.95</td>\n",
       "      <td>-3.30</td>\n",
       "      <td>3.40</td>\n",
       "      <td>99.00</td>\n",
       "      <td>99.0</td>\n",
       "    </tr>\n",
       "    <tr>\n",
       "      <th>5</th>\n",
       "      <td>23500.0</td>\n",
       "      <td>0.122895</td>\n",
       "      <td>5.345209</td>\n",
       "      <td>-9.95</td>\n",
       "      <td>-4.13</td>\n",
       "      <td>0.73</td>\n",
       "      <td>4.22</td>\n",
       "      <td>99.0</td>\n",
       "    </tr>\n",
       "    <tr>\n",
       "      <th>6</th>\n",
       "      <td>23500.0</td>\n",
       "      <td>19.161647</td>\n",
       "      <td>38.302227</td>\n",
       "      <td>-9.95</td>\n",
       "      <td>-0.92</td>\n",
       "      <td>3.01</td>\n",
       "      <td>7.82</td>\n",
       "      <td>99.0</td>\n",
       "    </tr>\n",
       "    <tr>\n",
       "      <th>7</th>\n",
       "      <td>23500.0</td>\n",
       "      <td>-0.479669</td>\n",
       "      <td>5.710155</td>\n",
       "      <td>-9.95</td>\n",
       "      <td>-5.58</td>\n",
       "      <td>-0.10</td>\n",
       "      <td>4.03</td>\n",
       "      <td>99.0</td>\n",
       "    </tr>\n",
       "    <tr>\n",
       "      <th>8</th>\n",
       "      <td>23500.0</td>\n",
       "      <td>-0.704873</td>\n",
       "      <td>5.061478</td>\n",
       "      <td>-9.95</td>\n",
       "      <td>-4.81</td>\n",
       "      <td>-0.34</td>\n",
       "      <td>3.01</td>\n",
       "      <td>99.0</td>\n",
       "    </tr>\n",
       "    <tr>\n",
       "      <th>9</th>\n",
       "      <td>23500.0</td>\n",
       "      <td>35.421426</td>\n",
       "      <td>48.096726</td>\n",
       "      <td>-9.95</td>\n",
       "      <td>-2.04</td>\n",
       "      <td>3.88</td>\n",
       "      <td>99.00</td>\n",
       "      <td>99.0</td>\n",
       "    </tr>\n",
       "    <tr>\n",
       "      <th>10</th>\n",
       "      <td>23500.0</td>\n",
       "      <td>20.041320</td>\n",
       "      <td>39.016692</td>\n",
       "      <td>-9.95</td>\n",
       "      <td>-1.12</td>\n",
       "      <td>3.35</td>\n",
       "      <td>8.30</td>\n",
       "      <td>99.0</td>\n",
       "    </tr>\n",
       "    <tr>\n",
       "      <th>11</th>\n",
       "      <td>23500.0</td>\n",
       "      <td>14.127602</td>\n",
       "      <td>32.920317</td>\n",
       "      <td>-9.95</td>\n",
       "      <td>-0.73</td>\n",
       "      <td>3.16</td>\n",
       "      <td>7.14</td>\n",
       "      <td>99.0</td>\n",
       "    </tr>\n",
       "    <tr>\n",
       "      <th>12</th>\n",
       "      <td>23500.0</td>\n",
       "      <td>11.848364</td>\n",
       "      <td>30.290246</td>\n",
       "      <td>-9.95</td>\n",
       "      <td>-0.92</td>\n",
       "      <td>2.86</td>\n",
       "      <td>6.65</td>\n",
       "      <td>99.0</td>\n",
       "    </tr>\n",
       "    <tr>\n",
       "      <th>13</th>\n",
       "      <td>23500.0</td>\n",
       "      <td>-1.736232</td>\n",
       "      <td>5.168494</td>\n",
       "      <td>-9.95</td>\n",
       "      <td>-6.31</td>\n",
       "      <td>-1.84</td>\n",
       "      <td>2.33</td>\n",
       "      <td>99.0</td>\n",
       "    </tr>\n",
       "    <tr>\n",
       "      <th>14</th>\n",
       "      <td>23500.0</td>\n",
       "      <td>10.778129</td>\n",
       "      <td>29.433288</td>\n",
       "      <td>-9.95</td>\n",
       "      <td>-1.70</td>\n",
       "      <td>2.62</td>\n",
       "      <td>6.60</td>\n",
       "      <td>99.0</td>\n",
       "    </tr>\n",
       "    <tr>\n",
       "      <th>15</th>\n",
       "      <td>23500.0</td>\n",
       "      <td>-2.179387</td>\n",
       "      <td>5.160511</td>\n",
       "      <td>-9.95</td>\n",
       "      <td>-6.60</td>\n",
       "      <td>-2.67</td>\n",
       "      <td>1.80</td>\n",
       "      <td>99.0</td>\n",
       "    </tr>\n",
       "    <tr>\n",
       "      <th>16</th>\n",
       "      <td>23500.0</td>\n",
       "      <td>-2.873492</td>\n",
       "      <td>5.189198</td>\n",
       "      <td>-9.95</td>\n",
       "      <td>-7.33</td>\n",
       "      <td>-3.54</td>\n",
       "      <td>0.92</td>\n",
       "      <td>99.0</td>\n",
       "    </tr>\n",
       "    <tr>\n",
       "      <th>17</th>\n",
       "      <td>23500.0</td>\n",
       "      <td>-1.181896</td>\n",
       "      <td>4.460549</td>\n",
       "      <td>-9.95</td>\n",
       "      <td>-4.56</td>\n",
       "      <td>-0.63</td>\n",
       "      <td>1.89</td>\n",
       "      <td>99.0</td>\n",
       "    </tr>\n",
       "    <tr>\n",
       "      <th>18</th>\n",
       "      <td>23500.0</td>\n",
       "      <td>-0.794206</td>\n",
       "      <td>5.086349</td>\n",
       "      <td>-9.95</td>\n",
       "      <td>-4.76</td>\n",
       "      <td>-0.39</td>\n",
       "      <td>2.86</td>\n",
       "      <td>99.0</td>\n",
       "    </tr>\n",
       "    <tr>\n",
       "      <th>19</th>\n",
       "      <td>23500.0</td>\n",
       "      <td>0.446707</td>\n",
       "      <td>5.151000</td>\n",
       "      <td>-9.95</td>\n",
       "      <td>-3.20</td>\n",
       "      <td>0.97</td>\n",
       "      <td>4.17</td>\n",
       "      <td>99.0</td>\n",
       "    </tr>\n",
       "  </tbody>\n",
       "</table>\n",
       "</div>"
      ],
      "text/plain": [
       "      count       mean        std    min    25%    50%     75%    max\n",
       "0   23500.0  72.723106  21.980057  36.00  53.00  72.00  100.00  100.0\n",
       "1   23500.0  34.263034  46.678832  -9.95  -0.15   5.29   99.00   99.0\n",
       "2   23500.0  27.652229  44.594358  -9.95  -2.28   3.79   99.00   99.0\n",
       "3   23500.0  32.670040  46.724580  -9.95  -1.65   4.37   99.00   99.0\n",
       "4   23500.0  35.353705  48.535436  -9.95  -3.30   3.40   99.00   99.0\n",
       "5   23500.0   0.122895   5.345209  -9.95  -4.13   0.73    4.22   99.0\n",
       "6   23500.0  19.161647  38.302227  -9.95  -0.92   3.01    7.82   99.0\n",
       "7   23500.0  -0.479669   5.710155  -9.95  -5.58  -0.10    4.03   99.0\n",
       "8   23500.0  -0.704873   5.061478  -9.95  -4.81  -0.34    3.01   99.0\n",
       "9   23500.0  35.421426  48.096726  -9.95  -2.04   3.88   99.00   99.0\n",
       "10  23500.0  20.041320  39.016692  -9.95  -1.12   3.35    8.30   99.0\n",
       "11  23500.0  14.127602  32.920317  -9.95  -0.73   3.16    7.14   99.0\n",
       "12  23500.0  11.848364  30.290246  -9.95  -0.92   2.86    6.65   99.0\n",
       "13  23500.0  -1.736232   5.168494  -9.95  -6.31  -1.84    2.33   99.0\n",
       "14  23500.0  10.778129  29.433288  -9.95  -1.70   2.62    6.60   99.0\n",
       "15  23500.0  -2.179387   5.160511  -9.95  -6.60  -2.67    1.80   99.0\n",
       "16  23500.0  -2.873492   5.189198  -9.95  -7.33  -3.54    0.92   99.0\n",
       "17  23500.0  -1.181896   4.460549  -9.95  -4.56  -0.63    1.89   99.0\n",
       "18  23500.0  -0.794206   5.086349  -9.95  -4.76  -0.39    2.86   99.0\n",
       "19  23500.0   0.446707   5.151000  -9.95  -3.20   0.97    4.17   99.0"
      ]
     },
     "execution_count": 28,
     "metadata": {},
     "output_type": "execute_result"
    }
   ],
   "source": [
    "jester.describe().T[:20]"
   ]
  },
  {
   "cell_type": "code",
   "execution_count": 29,
   "metadata": {},
   "outputs": [
    {
     "data": {
      "text/html": [
       "<div>\n",
       "<style scoped>\n",
       "    .dataframe tbody tr th:only-of-type {\n",
       "        vertical-align: middle;\n",
       "    }\n",
       "\n",
       "    .dataframe tbody tr th {\n",
       "        vertical-align: top;\n",
       "    }\n",
       "\n",
       "    .dataframe thead th {\n",
       "        text-align: right;\n",
       "    }\n",
       "</style>\n",
       "<table border=\"1\" class=\"dataframe\">\n",
       "  <thead>\n",
       "    <tr style=\"text-align: right;\">\n",
       "      <th></th>\n",
       "      <th>n_jokes_rated_by_user</th>\n",
       "      <th>1</th>\n",
       "      <th>2</th>\n",
       "      <th>3</th>\n",
       "      <th>4</th>\n",
       "      <th>5</th>\n",
       "      <th>6</th>\n",
       "      <th>7</th>\n",
       "      <th>8</th>\n",
       "      <th>9</th>\n",
       "      <th>...</th>\n",
       "      <th>91</th>\n",
       "      <th>92</th>\n",
       "      <th>93</th>\n",
       "      <th>94</th>\n",
       "      <th>95</th>\n",
       "      <th>96</th>\n",
       "      <th>97</th>\n",
       "      <th>98</th>\n",
       "      <th>99</th>\n",
       "      <th>100</th>\n",
       "    </tr>\n",
       "  </thead>\n",
       "  <tbody>\n",
       "    <tr>\n",
       "      <th>0</th>\n",
       "      <td>50</td>\n",
       "      <td>99.00</td>\n",
       "      <td>8.11</td>\n",
       "      <td>99.00</td>\n",
       "      <td>99.0</td>\n",
       "      <td>-2.28</td>\n",
       "      <td>-4.22</td>\n",
       "      <td>5.49</td>\n",
       "      <td>-2.62</td>\n",
       "      <td>99.00</td>\n",
       "      <td>...</td>\n",
       "      <td>99.00</td>\n",
       "      <td>99.0</td>\n",
       "      <td>99.00</td>\n",
       "      <td>99.00</td>\n",
       "      <td>99.00</td>\n",
       "      <td>-5.92</td>\n",
       "      <td>99.0</td>\n",
       "      <td>99.00</td>\n",
       "      <td>99.00</td>\n",
       "      <td>99.00</td>\n",
       "    </tr>\n",
       "    <tr>\n",
       "      <th>1</th>\n",
       "      <td>100</td>\n",
       "      <td>-4.37</td>\n",
       "      <td>-3.88</td>\n",
       "      <td>0.73</td>\n",
       "      <td>-3.2</td>\n",
       "      <td>-6.41</td>\n",
       "      <td>1.17</td>\n",
       "      <td>7.82</td>\n",
       "      <td>-4.76</td>\n",
       "      <td>-6.41</td>\n",
       "      <td>...</td>\n",
       "      <td>5.73</td>\n",
       "      <td>-6.7</td>\n",
       "      <td>1.99</td>\n",
       "      <td>2.62</td>\n",
       "      <td>-0.49</td>\n",
       "      <td>3.45</td>\n",
       "      <td>3.2</td>\n",
       "      <td>-0.53</td>\n",
       "      <td>-0.53</td>\n",
       "      <td>-2.96</td>\n",
       "    </tr>\n",
       "    <tr>\n",
       "      <th>2</th>\n",
       "      <td>42</td>\n",
       "      <td>99.00</td>\n",
       "      <td>99.00</td>\n",
       "      <td>99.00</td>\n",
       "      <td>99.0</td>\n",
       "      <td>0.73</td>\n",
       "      <td>99.00</td>\n",
       "      <td>5.53</td>\n",
       "      <td>3.25</td>\n",
       "      <td>99.00</td>\n",
       "      <td>...</td>\n",
       "      <td>99.00</td>\n",
       "      <td>99.0</td>\n",
       "      <td>99.00</td>\n",
       "      <td>99.00</td>\n",
       "      <td>3.16</td>\n",
       "      <td>99.00</td>\n",
       "      <td>99.0</td>\n",
       "      <td>99.00</td>\n",
       "      <td>99.00</td>\n",
       "      <td>99.00</td>\n",
       "    </tr>\n",
       "    <tr>\n",
       "      <th>3</th>\n",
       "      <td>65</td>\n",
       "      <td>0.34</td>\n",
       "      <td>-6.55</td>\n",
       "      <td>2.86</td>\n",
       "      <td>99.0</td>\n",
       "      <td>-3.64</td>\n",
       "      <td>1.12</td>\n",
       "      <td>5.34</td>\n",
       "      <td>2.33</td>\n",
       "      <td>99.00</td>\n",
       "      <td>...</td>\n",
       "      <td>99.00</td>\n",
       "      <td>99.0</td>\n",
       "      <td>99.00</td>\n",
       "      <td>99.00</td>\n",
       "      <td>99.00</td>\n",
       "      <td>99.00</td>\n",
       "      <td>99.0</td>\n",
       "      <td>99.00</td>\n",
       "      <td>99.00</td>\n",
       "      <td>99.00</td>\n",
       "    </tr>\n",
       "    <tr>\n",
       "      <th>4</th>\n",
       "      <td>37</td>\n",
       "      <td>99.00</td>\n",
       "      <td>99.00</td>\n",
       "      <td>99.00</td>\n",
       "      <td>99.0</td>\n",
       "      <td>9.13</td>\n",
       "      <td>99.00</td>\n",
       "      <td>-9.32</td>\n",
       "      <td>-2.04</td>\n",
       "      <td>99.00</td>\n",
       "      <td>...</td>\n",
       "      <td>99.00</td>\n",
       "      <td>99.0</td>\n",
       "      <td>99.00</td>\n",
       "      <td>99.00</td>\n",
       "      <td>99.00</td>\n",
       "      <td>99.00</td>\n",
       "      <td>99.0</td>\n",
       "      <td>99.00</td>\n",
       "      <td>99.00</td>\n",
       "      <td>99.00</td>\n",
       "    </tr>\n",
       "  </tbody>\n",
       "</table>\n",
       "<p>5 rows × 101 columns</p>\n",
       "</div>"
      ],
      "text/plain": [
       "   n_jokes_rated_by_user      1      2      3     4     5      6     7     8  \\\n",
       "0                     50  99.00   8.11  99.00  99.0 -2.28  -4.22  5.49 -2.62   \n",
       "1                    100  -4.37  -3.88   0.73  -3.2 -6.41   1.17  7.82 -4.76   \n",
       "2                     42  99.00  99.00  99.00  99.0  0.73  99.00  5.53  3.25   \n",
       "3                     65   0.34  -6.55   2.86  99.0 -3.64   1.12  5.34  2.33   \n",
       "4                     37  99.00  99.00  99.00  99.0  9.13  99.00 -9.32 -2.04   \n",
       "\n",
       "       9  ...     91    92     93     94     95     96    97     98     99  \\\n",
       "0  99.00  ...  99.00  99.0  99.00  99.00  99.00  -5.92  99.0  99.00  99.00   \n",
       "1  -6.41  ...   5.73  -6.7   1.99   2.62  -0.49   3.45   3.2  -0.53  -0.53   \n",
       "2  99.00  ...  99.00  99.0  99.00  99.00   3.16  99.00  99.0  99.00  99.00   \n",
       "3  99.00  ...  99.00  99.0  99.00  99.00  99.00  99.00  99.0  99.00  99.00   \n",
       "4  99.00  ...  99.00  99.0  99.00  99.00  99.00  99.00  99.0  99.00  99.00   \n",
       "\n",
       "     100  \n",
       "0  99.00  \n",
       "1  -2.96  \n",
       "2  99.00  \n",
       "3  99.00  \n",
       "4  99.00  \n",
       "\n",
       "[5 rows x 101 columns]"
      ]
     },
     "execution_count": 29,
     "metadata": {},
     "output_type": "execute_result"
    }
   ],
   "source": [
    "jester.rename(columns = {0:'n_jokes_rated_by_user'}, inplace=True)\n",
    "jester.head()"
   ]
  },
  {
   "cell_type": "code",
   "execution_count": 30,
   "metadata": {},
   "outputs": [
    {
     "name": "stdout",
     "output_type": "stream",
     "text": [
      "Check of rated jokes per user are above 36 . . .\n",
      "loading ...\n",
      " True\n"
     ]
    }
   ],
   "source": [
    "print(\"Check of rated jokes per user are above 36 . . .\\nloading ...\\n\", \n",
    "      all(i >= 36 for i in jester.n_jokes_rated_by_user))"
   ]
  },
  {
   "cell_type": "code",
   "execution_count": 31,
   "metadata": {},
   "outputs": [],
   "source": [
    "jester.drop([\"n_jokes_rated_by_user\"], axis=1, inplace=True)\n",
    "# jester.replace(99, np.nan, inplace=True)"
   ]
  },
  {
   "cell_type": "code",
   "execution_count": 32,
   "metadata": {},
   "outputs": [
    {
     "data": {
      "text/html": [
       "<div>\n",
       "<style scoped>\n",
       "    .dataframe tbody tr th:only-of-type {\n",
       "        vertical-align: middle;\n",
       "    }\n",
       "\n",
       "    .dataframe tbody tr th {\n",
       "        vertical-align: top;\n",
       "    }\n",
       "\n",
       "    .dataframe thead th {\n",
       "        text-align: right;\n",
       "    }\n",
       "</style>\n",
       "<table border=\"1\" class=\"dataframe\">\n",
       "  <thead>\n",
       "    <tr style=\"text-align: right;\">\n",
       "      <th></th>\n",
       "      <th>1</th>\n",
       "      <th>2</th>\n",
       "      <th>3</th>\n",
       "      <th>4</th>\n",
       "      <th>5</th>\n",
       "      <th>6</th>\n",
       "      <th>7</th>\n",
       "      <th>8</th>\n",
       "      <th>9</th>\n",
       "      <th>10</th>\n",
       "      <th>...</th>\n",
       "      <th>91</th>\n",
       "      <th>92</th>\n",
       "      <th>93</th>\n",
       "      <th>94</th>\n",
       "      <th>95</th>\n",
       "      <th>96</th>\n",
       "      <th>97</th>\n",
       "      <th>98</th>\n",
       "      <th>99</th>\n",
       "      <th>100</th>\n",
       "    </tr>\n",
       "  </thead>\n",
       "  <tbody>\n",
       "    <tr>\n",
       "      <th>0</th>\n",
       "      <td>99.00</td>\n",
       "      <td>8.11</td>\n",
       "      <td>99.00</td>\n",
       "      <td>99.0</td>\n",
       "      <td>-2.28</td>\n",
       "      <td>-4.22</td>\n",
       "      <td>5.49</td>\n",
       "      <td>-2.62</td>\n",
       "      <td>99.00</td>\n",
       "      <td>-2.28</td>\n",
       "      <td>...</td>\n",
       "      <td>99.00</td>\n",
       "      <td>99.0</td>\n",
       "      <td>99.00</td>\n",
       "      <td>99.00</td>\n",
       "      <td>99.00</td>\n",
       "      <td>-5.92</td>\n",
       "      <td>99.0</td>\n",
       "      <td>99.00</td>\n",
       "      <td>99.00</td>\n",
       "      <td>99.00</td>\n",
       "    </tr>\n",
       "    <tr>\n",
       "      <th>1</th>\n",
       "      <td>-4.37</td>\n",
       "      <td>-3.88</td>\n",
       "      <td>0.73</td>\n",
       "      <td>-3.2</td>\n",
       "      <td>-6.41</td>\n",
       "      <td>1.17</td>\n",
       "      <td>7.82</td>\n",
       "      <td>-4.76</td>\n",
       "      <td>-6.41</td>\n",
       "      <td>0.73</td>\n",
       "      <td>...</td>\n",
       "      <td>5.73</td>\n",
       "      <td>-6.7</td>\n",
       "      <td>1.99</td>\n",
       "      <td>2.62</td>\n",
       "      <td>-0.49</td>\n",
       "      <td>3.45</td>\n",
       "      <td>3.2</td>\n",
       "      <td>-0.53</td>\n",
       "      <td>-0.53</td>\n",
       "      <td>-2.96</td>\n",
       "    </tr>\n",
       "    <tr>\n",
       "      <th>2</th>\n",
       "      <td>99.00</td>\n",
       "      <td>99.00</td>\n",
       "      <td>99.00</td>\n",
       "      <td>99.0</td>\n",
       "      <td>0.73</td>\n",
       "      <td>99.00</td>\n",
       "      <td>5.53</td>\n",
       "      <td>3.25</td>\n",
       "      <td>99.00</td>\n",
       "      <td>99.00</td>\n",
       "      <td>...</td>\n",
       "      <td>99.00</td>\n",
       "      <td>99.0</td>\n",
       "      <td>99.00</td>\n",
       "      <td>99.00</td>\n",
       "      <td>3.16</td>\n",
       "      <td>99.00</td>\n",
       "      <td>99.0</td>\n",
       "      <td>99.00</td>\n",
       "      <td>99.00</td>\n",
       "      <td>99.00</td>\n",
       "    </tr>\n",
       "    <tr>\n",
       "      <th>3</th>\n",
       "      <td>0.34</td>\n",
       "      <td>-6.55</td>\n",
       "      <td>2.86</td>\n",
       "      <td>99.0</td>\n",
       "      <td>-3.64</td>\n",
       "      <td>1.12</td>\n",
       "      <td>5.34</td>\n",
       "      <td>2.33</td>\n",
       "      <td>99.00</td>\n",
       "      <td>2.33</td>\n",
       "      <td>...</td>\n",
       "      <td>99.00</td>\n",
       "      <td>99.0</td>\n",
       "      <td>99.00</td>\n",
       "      <td>99.00</td>\n",
       "      <td>99.00</td>\n",
       "      <td>99.00</td>\n",
       "      <td>99.0</td>\n",
       "      <td>99.00</td>\n",
       "      <td>99.00</td>\n",
       "      <td>99.00</td>\n",
       "    </tr>\n",
       "    <tr>\n",
       "      <th>4</th>\n",
       "      <td>99.00</td>\n",
       "      <td>99.00</td>\n",
       "      <td>99.00</td>\n",
       "      <td>99.0</td>\n",
       "      <td>9.13</td>\n",
       "      <td>99.00</td>\n",
       "      <td>-9.32</td>\n",
       "      <td>-2.04</td>\n",
       "      <td>99.00</td>\n",
       "      <td>99.00</td>\n",
       "      <td>...</td>\n",
       "      <td>99.00</td>\n",
       "      <td>99.0</td>\n",
       "      <td>99.00</td>\n",
       "      <td>99.00</td>\n",
       "      <td>99.00</td>\n",
       "      <td>99.00</td>\n",
       "      <td>99.0</td>\n",
       "      <td>99.00</td>\n",
       "      <td>99.00</td>\n",
       "      <td>99.00</td>\n",
       "    </tr>\n",
       "  </tbody>\n",
       "</table>\n",
       "<p>5 rows × 100 columns</p>\n",
       "</div>"
      ],
      "text/plain": [
       "     1      2      3     4     5      6     7     8      9      10   ...  \\\n",
       "0  99.00   8.11  99.00  99.0 -2.28  -4.22  5.49 -2.62  99.00  -2.28  ...   \n",
       "1  -4.37  -3.88   0.73  -3.2 -6.41   1.17  7.82 -4.76  -6.41   0.73  ...   \n",
       "2  99.00  99.00  99.00  99.0  0.73  99.00  5.53  3.25  99.00  99.00  ...   \n",
       "3   0.34  -6.55   2.86  99.0 -3.64   1.12  5.34  2.33  99.00   2.33  ...   \n",
       "4  99.00  99.00  99.00  99.0  9.13  99.00 -9.32 -2.04  99.00  99.00  ...   \n",
       "\n",
       "     91    92     93     94     95     96    97     98     99     100  \n",
       "0  99.00  99.0  99.00  99.00  99.00  -5.92  99.0  99.00  99.00  99.00  \n",
       "1   5.73  -6.7   1.99   2.62  -0.49   3.45   3.2  -0.53  -0.53  -2.96  \n",
       "2  99.00  99.0  99.00  99.00   3.16  99.00  99.0  99.00  99.00  99.00  \n",
       "3  99.00  99.0  99.00  99.00  99.00  99.00  99.0  99.00  99.00  99.00  \n",
       "4  99.00  99.0  99.00  99.00  99.00  99.00  99.0  99.00  99.00  99.00  \n",
       "\n",
       "[5 rows x 100 columns]"
      ]
     },
     "execution_count": 32,
     "metadata": {},
     "output_type": "execute_result"
    }
   ],
   "source": [
    "jester.head()"
   ]
  },
  {
   "cell_type": "markdown",
   "metadata": {},
   "source": [
    "### Question 3.1 (10 points) \n",
    "\n",
    "Build a user-based collaborative filtering and provide a list of top 5 jokes for the first user. Check the text of jokes to see if the recommendations are sensible. "
   ]
  },
  {
   "cell_type": "code",
   "execution_count": 33,
   "metadata": {},
   "outputs": [],
   "source": [
    "from sklearn.metrics.pairwise import cosine_similarity"
   ]
  },
  {
   "cell_type": "code",
   "execution_count": 34,
   "metadata": {},
   "outputs": [],
   "source": [
    "cosine = cosine_similarity(jester)\n",
    "#np.fill_diagonal(cosine, 0 )\n",
    "similarity_joke_matrix = pd.DataFrame(cosine , index = jester.index)\n",
    "similarity_joke_matrix.columns = jester.index\n"
   ]
  },
  {
   "cell_type": "code",
   "execution_count": 35,
   "metadata": {},
   "outputs": [],
   "source": [
    "def user_base_collaborative_filter(user_id=0):\n",
    "    top_n_user=int(input(\"Enter the top N users for similarity: ... \"))\n",
    "    ## create a list of unseen joke for the user_id\n",
    "    unseen_joke_idx= jester.columns[jester.iloc[user_id,:]==99].tolist()\n",
    "    ## select from the cosine similarity matrix the correspondent values sorted and select the TOP N Users more similar\n",
    "    similar_user_target=similarity_joke_matrix.iloc[1:,user_id].sort_values(ascending=False)[:top_n_user]\n",
    "    ## from the rating matrix sort by unseen jokes and cosini similarity indexes \n",
    "    unseen_joke_allrating=jester.loc[similar_user_target.index,unseen_joke_idx]\n",
    "    res = pd.DataFrame(unseen_joke_idx, columns=[\"Unseen Joke\"])\n",
    "    \n",
    "    ratings=[]\n",
    "    for  name in list(unseen_joke_allrating.columns):\n",
    "        ## collect the rating of each jokes differents from 99\n",
    "            rating_calc= unseen_joke_allrating.loc[(unseen_joke_allrating.loc[:,name] < 99),name]\n",
    "            # check whethere does not exist any rating given by all users selected \n",
    "            if all(rating_calc==0):\n",
    "                ratings.append(0)\n",
    "            else:\n",
    "                ## select the correspondent Similarity weights\n",
    "                w=similar_user_target.loc[rating_calc.index]\n",
    "                ## compute the weighted average\n",
    "                ratings.append(np.average(rating_calc, weights=w))\n",
    "    \n",
    "    res[\"rating_forecast\"]=ratings\n",
    "    \n",
    "    global top5_reccommendation\n",
    "    ## take only the top 5 reccommendation\n",
    "    top5_reccommendation= res.sort_values(by=\"rating_forecast\",axis=0,ascending=False)[:5]\n",
    "    return print(top5_reccommendation.to_string(index=False))"
   ]
  },
  {
   "cell_type": "code",
   "execution_count": 36,
   "metadata": {},
   "outputs": [
    {
     "name": "stdout",
     "output_type": "stream",
     "text": [
      "Enter the top N users for similarity: ... 1000\n",
      " Unseen Joke  rating_forecast\n",
      "          72         3.349763\n",
      "           1         2.871186\n",
      "          78         2.748921\n",
      "          33         2.732279\n",
      "          76         2.666660\n"
     ]
    }
   ],
   "source": [
    "user_base_collaborative_filter(0)\n",
    "                              "
   ]
  },
  {
   "cell_type": "code",
   "execution_count": 37,
   "metadata": {
    "scrolled": true
   },
   "outputs": [
    {
     "name": "stdout",
     "output_type": "stream",
     "text": [
      "Joke 72\n",
      "\n",
      "On the first day of college, the Dean addressed the students,\n",
      "pointing out some of the rules:\n",
      "\n",
      "\"The female dormitory will be out-of-bounds for all male students\n",
      "and the male dormitory to the female students. Anybody caught breaking\n",
      "this rule will be finded $20 the first time.\" He continued, \"Anybody \n",
      "caught breaking this rule the second time will be fined $60. Being caught\n",
      "a third time will cost you a fine of $180. Are there any questions ?\"\n",
      "<p>\n",
      "At this point, a male student in the crowd inquired:\n",
      "<i>\"How much for a season pass ?\"</i>\n",
      "\n",
      "~~~~~~~~~~~~~~~~~~~~~~~~\n",
      "Joke 1\n",
      "\n",
      "A man visits the doctor. The doctor says \"I have bad news for you.You have\n",
      "cancer and Alzheimer's disease\". <P>\n",
      "The man replies \"Well,thank God I don't have cancer!\"\n",
      "\n",
      "~~~~~~~~~~~~~~~~~~~~~~~~\n",
      "Joke 78\n",
      "\n",
      "Q: What's the difference between the government  and  the Mafia?\n",
      "<p>\n",
      "A: <i>One of them is organized</i>.\n",
      "\n",
      "~~~~~~~~~~~~~~~~~~~~~~~~\n",
      "Joke 33\n",
      "\n",
      "What do you call an American in the finals of the world cup?\n",
      "<P>\n",
      "\"Hey Beer Man!\"\n",
      "\n",
      "~~~~~~~~~~~~~~~~~~~~~~~~\n",
      "Joke 76\n",
      "\n",
      "There once was a man and a woman that both  got in  a terrible car wreck. Both of their vehicles  \n",
      "were completely destroyed, buy fortunately, no one  was   hurt.  In thankfulness, the woman said to the \n",
      "man, 'We are both okay, so we should celebrate. I have   a  bottle of wine in my car, let's open it.'         \n",
      "So the woman got the bottleout of the car, and  handed it to the man. The man took a really big drink, \n",
      "and handed the woman the bottle. The  woman  closed the bottle and put it down. The man  asked,  \n",
      "'Aren't you going to take a drink?' \n",
      "<p>\n",
      "The woman cleverly replied, \n",
      "<i>'No, I think I'll  just  wait for the cops to get here.'</i>\n",
      "\n",
      "~~~~~~~~~~~~~~~~~~~~~~~~\n"
     ]
    }
   ],
   "source": [
    "for joke in list(top5_reccommendation['Unseen Joke']):\n",
    "    ## read the HTML files (joke texts)\n",
    "    joke_str = 'jokes/init' + str(joke) + '.html'\n",
    "    f = codecs.open(joke_str, 'r')\n",
    "    s = f.read()\n",
    "    ## find the end and the beginning of the joke \n",
    "    beg = s.find('<!--begin of joke -->') + len('<!--begin of joke -->')\n",
    "    end = s.find('<!--end of joke -->')\n",
    "    print('Joke {}'.format(joke))\n",
    "    print(s[beg:end])\n",
    "    print('~~~~~~~~~~~~~~~~~~~~~~~~')"
   ]
  },
  {
   "cell_type": "markdown",
   "metadata": {},
   "source": [
    "The jokes selected seems to describe a creepy/cruel situation talking about death, illness and other unethical manner. So probably the model made a good selection of jokes for the user 0. "
   ]
  },
  {
   "cell_type": "markdown",
   "metadata": {},
   "source": [
    "### Question 3.2 (10 points) \n",
    "\n",
    "Build a item-based collaborative filtering and provide a list of top 5 jokes for the first user. Check the text of jokes to see if the recommendations are sensible."
   ]
  },
  {
   "cell_type": "code",
   "execution_count": 38,
   "metadata": {},
   "outputs": [],
   "source": [
    "cosine = cosine_similarity(jester.T) ## cosine similiarity per jokes\n",
    "#np.fill_diagonal(cosine, 0 )\n",
    "similarity_joke_matrix = pd.DataFrame(cosine , index = jester.columns)\n",
    "similarity_joke_matrix.columns = jester.columns\n"
   ]
  },
  {
   "cell_type": "code",
   "execution_count": 39,
   "metadata": {},
   "outputs": [],
   "source": [
    "def item_base_collaborative_filter(user_id=0):\n",
    "    global res\n",
    "    res = pd.DataFrame(jester.columns, columns=[\"Joke_ID\"])\n",
    "\n",
    "    forecast_rating=[]\n",
    "\n",
    "    for joke_id in jester.columns:\n",
    "        ## select for every joke the most similar by looking at the top 10 cosine similarity\n",
    "        top_n_similarity_per_joke=similarity_joke_matrix.loc[:,joke_id].sort_values(ascending=False)[1:11]\n",
    "\n",
    "        indx_joke=top_n_similarity_per_joke.index.to_list()\n",
    "        ## create a dataframe that contain the similiraty of jokes and the corresponding rating given by user_id=0\n",
    "        df=pd.DataFrame(similarity_joke_matrix.loc[joke_id, indx_joke].values,index=similarity_joke_matrix.loc[joke_id, indx_joke].index\n",
    "                        , columns=[\"similarity\"])\n",
    "        df['rating']=jester.loc[user_id,indx_joke]\n",
    "        ## get rid off the non rated jokes \n",
    "        df=df[df.rating<99]    \n",
    "\n",
    "        try:\n",
    "            forecast_rating.append(np.average(df.rating, weights=df.similarity))\n",
    "    ## if error continue the loop (the error is that the df does not contain any info)\n",
    "        except:\n",
    "            forecast_rating.append(None)\n",
    "            continue\n",
    "\n",
    "    res['rating_forecast']=forecast_rating"
   ]
  },
  {
   "cell_type": "code",
   "execution_count": 40,
   "metadata": {},
   "outputs": [],
   "source": [
    "item_base_collaborative_filter(user_id=0)"
   ]
  },
  {
   "cell_type": "code",
   "execution_count": 41,
   "metadata": {},
   "outputs": [
    {
     "name": "stdout",
     "output_type": "stream",
     "text": [
      "Joke_ID  rating_forecast\n",
      "      3             8.11\n",
      "     84             1.21\n",
      "     82             1.21\n",
      "     91             1.21\n",
      "     90             1.21\n"
     ]
    }
   ],
   "source": [
    "unseen_joke_idx= (jester.iloc[0,:]==99).tolist()\n",
    "res['user_unseen']=unseen_joke_idx\n",
    "top_5=res[res.user_unseen==True].sort_values(by=['rating_forecast'],axis=0, ascending=False)[:5]\n",
    "print(top_5.iloc[:,0:2].to_string(index=False))"
   ]
  },
  {
   "cell_type": "code",
   "execution_count": 42,
   "metadata": {},
   "outputs": [
    {
     "name": "stdout",
     "output_type": "stream",
     "text": [
      "Joke 3\n",
      "\n",
      "Q. What's 200 feet long and has 4 teeth? <P>\n",
      "\n",
      "A. The front row at a Willie Nelson Concert.\n",
      "\n",
      "~~~~~~~~~~~~~~~~~~~~~~~~\n",
      "Joke 84\n",
      "\n",
      "Q: What is the difference between Mechanical Engineers and Civil \n",
      "Engineers?\n",
      "<p> \n",
      "A: Mechanical Engineers build <i>weapons</i>, Civil Engineers build <i>targets</i>.\n",
      "\n",
      "~~~~~~~~~~~~~~~~~~~~~~~~\n",
      "Joke 82\n",
      "\n",
      "Q: How do you keep a computer programmer in the \n",
      "shower all day long?\n",
      "<p>\n",
      "A: Give them a shampoo with a label that says\n",
      "<i>\"rinse, lather, repeat\"</i>.\n",
      "\n",
      "~~~~~~~~~~~~~~~~~~~~~~~~\n",
      "Joke 91\n",
      "\n",
      "A Panda bear walks into a bar.  Sits down at a table and orders a beer \n",
      "and a double cheeseburger.  After he is finished eating, he pulls out a gun\n",
      "and rips the place with gunfire.  Patrons scatter and dive under chairs and\n",
      "tables as the bear runs out the door.  After ensuring that no one is hurt, \n",
      "the bartender races out the door, and calls after the bear \"What the hell did\n",
      "you do that for?\"  The bear calls back, \"I'm a Panda bear.  Look it up in the\n",
      "dictionary.\"  \n",
      "<p>\n",
      "The bartender returns, pulls out his dictionary.\n",
      "<p>\n",
      "panda : \\Pan\"da\\, n. (Zo[\"o]l.)<br>\n",
      "A small Asiatic mammal (Ailurus fulgens) having fine soft fur.\n",
      "It is related to the bears, and inhabits the mountains of Northern India.\n",
      "<i>Eats shoots and leaves.</i>\n",
      "\n",
      "~~~~~~~~~~~~~~~~~~~~~~~~\n",
      "Joke 90\n",
      "\n",
      "Q: How many programmers does it take to change a lightbulb?\n",
      "<p>\n",
      "A: <i>NONE!   That's a hardware problem....</i>\n",
      "\n",
      "~~~~~~~~~~~~~~~~~~~~~~~~\n"
     ]
    }
   ],
   "source": [
    "for joke in list(top_5['Joke_ID']):\n",
    "    ## read the HTML files (joke texts)\n",
    "    joke_str = 'jokes/init' + str(joke) + '.html'\n",
    "    f = codecs.open(joke_str, 'r')\n",
    "    s = f.read()\n",
    "    ## find the end and the beginning of the joke \n",
    "    beg = s.find('<!--begin of joke -->') + len('<!--begin of joke -->')\n",
    "    end = s.find('<!--end of joke -->')\n",
    "    print('Joke {}'.format(joke))\n",
    "    print(s[beg:end])\n",
    "    print('~~~~~~~~~~~~~~~~~~~~~~~~')"
   ]
  },
  {
   "cell_type": "markdown",
   "metadata": {},
   "source": [
    "The jokes reccommended are around the topic of computer science/programming. Therefore the model is selecting a good reccommendation of jokes. "
   ]
  },
  {
   "cell_type": "markdown",
   "metadata": {},
   "source": [
    "### Question 3.3 (20 points) \n",
    "\n",
    "Now build a recommendation system using matrix factorization (singular value decomposition). Get a list of top 5 jokes for the first user. Explain whether model-based recoomendation approach is better than neighborhood-based approach. Write a function that takes the parameter of user_id and return the text of recommended jokes)"
   ]
  },
  {
   "cell_type": "code",
   "execution_count": 43,
   "metadata": {},
   "outputs": [],
   "source": [
    "from scipy.sparse.linalg import svds"
   ]
  },
  {
   "cell_type": "code",
   "execution_count": 44,
   "metadata": {},
   "outputs": [],
   "source": [
    "jester = jester.replace(99, 0)\n",
    "U, sigma, Vt = svds(jester.values)\n",
    "sigma = np.diag(sigma)\n",
    "predicted_ratings = np.dot(np.dot(U, sigma), Vt)\n",
    "\n",
    "# select jokes with highest predicting rating but not yet rated\n",
    "def svds_recommendation(user_id=0):\n",
    "    #user_id=int(input(\"Do you wanna change user ID? (default 0):   \"))\n",
    "    ## create a list of highest predicted rating unseen by the user\n",
    "    recommended_jokes = []\n",
    "\n",
    "    for indx in np.argsort(predicted_ratings[user_id])[::-1]:\n",
    "        if jester.iloc[0,indx] == 0:\n",
    "            recommended_jokes.append(indx)\n",
    "    global res\n",
    "    res = recommended_jokes[:5]      \n",
    "    return print('The recommendation system using matrix factorization returns:\\nloading ...\\njokes: {}'.format(res))"
   ]
  },
  {
   "cell_type": "code",
   "execution_count": 46,
   "metadata": {},
   "outputs": [
    {
     "data": {
      "text/plain": [
       "array([-0.31, -0.60, -0.67, -1.19, -0.87, 0.52, -1.38, -1.43, -0.82,\n",
       "       -0.10, 0.48, 0.84, -2.08, 0.58, -2.40, -2.59, -1.36, -1.07, -0.17,\n",
       "       -1.09, 1.04, -0.05, -0.30, -1.38, -0.25, 0.59, 1.65, 0.91, 1.29,\n",
       "       -0.68, 1.08, 1.86, -1.21, 0.33, 1.64, 1.51, -1.21, 0.46, 0.44,\n",
       "       0.10, -0.98, 0.97, -0.92, -1.53, 0.23, 0.48, 0.98, 1.05, 1.66,\n",
       "       1.87, -1.07, -0.65, 1.59, 1.54, -0.24, 1.02, -1.44, -1.97, -0.65,\n",
       "       -0.91, 1.21, 1.87, 0.09, -1.06, 1.16, 1.59, -1.01, 1.80, 1.46,\n",
       "       0.19, -0.42, 0.28, -0.15, -0.69, -0.43, 0.19, -0.14, -0.01, -0.35,\n",
       "       -0.12, -0.01, -0.22, 0.13, -0.20, -0.38, -0.35, 0.08, 0.11, 0.53,\n",
       "       -0.25, 0.12, 0.00, 0.25, -0.14, -0.12, 0.02, 0.07, -0.09, -0.31,\n",
       "       -0.28])"
      ]
     },
     "execution_count": 46,
     "metadata": {},
     "output_type": "execute_result"
    }
   ],
   "source": [
    "predicted_ratings[0]"
   ]
  },
  {
   "cell_type": "code",
   "execution_count": 76,
   "metadata": {},
   "outputs": [
    {
     "name": "stdout",
     "output_type": "stream",
     "text": [
      "The recommendation system using matrix factorization returns:\n",
      "loading ...\n",
      "jokes: [38, 33, 71, 92, 75]\n"
     ]
    }
   ],
   "source": [
    "svds_recommendation()"
   ]
  },
  {
   "cell_type": "markdown",
   "metadata": {},
   "source": [
    "The  recommendation system using matrix factorization is in the most of the cases quicker than neighborhood-based approach, especially when dealing with large datasets. "
   ]
  },
  {
   "cell_type": "code",
   "execution_count": 77,
   "metadata": {},
   "outputs": [],
   "source": [
    "def print_jokes(user_id=0):\n",
    "    user_id=int(input(\"Do you wanna change user ID? (default 0):   \"))\n",
    "    svds_recommendation(user_id=user_id)\n",
    "    for joke in res:\n",
    "        ## read the HTML files (joke texts)\n",
    "        joke_str = 'jokes/init' + str(joke) + '.html'\n",
    "        f = codecs.open(joke_str, 'r')\n",
    "        s = f.read()\n",
    "        ## find the end and the beginning of the joke \n",
    "        beg = s.find('<!--begin of joke -->') + len('<!--begin of joke -->')\n",
    "        end = s.find('<!--end of joke -->')\n",
    "        print('Joke {}'.format(joke))\n",
    "        print(s[beg:end])\n",
    "        print('~~~~~~~~~~~~~~~~~~~~~~~~')"
   ]
  },
  {
   "cell_type": "code",
   "execution_count": 78,
   "metadata": {},
   "outputs": [
    {
     "name": "stdout",
     "output_type": "stream",
     "text": [
      "Do you wanna change user ID? (default 0):   214\n",
      "The recommendation system using matrix factorization returns:\n",
      "loading ...\n",
      "jokes: [38, 33, 51, 50, 69]\n",
      "Joke 38\n",
      "\n",
      "\"May I take your order?\" the waiter asked. \n",
      "<P>\n",
      "\"Yes, how do you prepare your chickens?\" \n",
      "<P>\n",
      "\"Nothing special sir,\" he replied. \"We just tell them straight out\n",
      "that they're going to die.\"\n",
      "\n",
      "~~~~~~~~~~~~~~~~~~~~~~~~\n",
      "Joke 33\n",
      "\n",
      "What do you call an American in the finals of the world cup?\n",
      "<P>\n",
      "\"Hey Beer Man!\"\n",
      "\n",
      "~~~~~~~~~~~~~~~~~~~~~~~~\n",
      "Joke 51\n",
      "\n",
      "Did you hear that Clinton has announced there is a new national bird?  \n",
      "<p>The spread eagle.\n",
      "\n",
      "~~~~~~~~~~~~~~~~~~~~~~~~\n",
      "Joke 50\n",
      "\n",
      "A guy goes into confession and says to the priest, \"Father, I'm 80 years\n",
      "old, widower, with 11 grandchildren. Last night I met two beautiful flight\n",
      "attendants. They took me home and I made love to both of them. Twice.\"\n",
      "<P>\n",
      "The priest said: \"Well, my son, when was the last time you were in\n",
      "confession?\"\n",
      "<p> \"Never Father, I'm Jewish.\"\n",
      "<p> \"So then, why are you telling me?\"\n",
      "<p> \"I'm telling everybody.\"\n",
      "\n",
      "~~~~~~~~~~~~~~~~~~~~~~~~\n",
      "Joke 69\n",
      "\n",
      "This guys wife asks, \"Honey if I died would you remarry?\" and he replies,\n",
      "\"Well, after a considerable period of grieving, we all need\n",
      "companionship, I guess I would.\"\n",
      "<P>\n",
      "She then asks, \"If I died and you remarried, would she live in this\n",
      "house?\" and he replies, \"We've spent a lot of time and money getting this\n",
      "house just the way we want it. I'm not going to get rid of my house, I\n",
      "guess she would.\"\n",
      "<P>\n",
      "\"If I died and you remarried, and she lived in this house, would she\n",
      "sleep in our bed?\" and he says, \"That bed is brand new, we just paid two\n",
      "thousand dollars for it, it's going to last a long time, I guess she\n",
      "would.\"\n",
      "<P>\n",
      "So she asks, \"If I died and you remarried, and she lived in this house,\n",
      "and slept in our bed, would she use my golf clubs?\"\n",
      "<P>\n",
      "\"Oh no, she's left handed.\"\n",
      "\n",
      "~~~~~~~~~~~~~~~~~~~~~~~~\n"
     ]
    }
   ],
   "source": [
    "print_jokes()"
   ]
  }
 ],
 "metadata": {
  "kernelspec": {
   "display_name": "Python 3",
   "language": "python",
   "name": "python3"
  },
  "language_info": {
   "codemirror_mode": {
    "name": "ipython",
    "version": 3
   },
   "file_extension": ".py",
   "mimetype": "text/x-python",
   "name": "python",
   "nbconvert_exporter": "python",
   "pygments_lexer": "ipython3",
   "version": "3.7.3"
  }
 },
 "nbformat": 4,
 "nbformat_minor": 2
}
