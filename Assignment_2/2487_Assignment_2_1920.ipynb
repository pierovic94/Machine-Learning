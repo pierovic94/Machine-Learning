{
 "cells": [
  {
   "cell_type": "markdown",
   "metadata": {},
   "source": [
    "## Assignment 2 Machine Learning"
   ]
  },
  {
   "cell_type": "markdown",
   "metadata": {},
   "source": [
    "### Question 1  (100 points) Yeah we maxed our credits card\n",
    "\n",
    "![](http://www.picslyrics.net/images/97285-katy-perry-t-g-i-f.jpg)\n",
    "\n",
    "This questions aimed at the case of customer default payments in October, 2005, from an\n",
    "important bank (a cash and credit card issuer) in Taiwan and the customers were credit card holders of the bank. From the perspective of risk management, the result of predictive accuracy of the payment default will be very valuable for banks to evluate credible or not credible clients. \n",
    "\n",
    "\n",
    "**Credit card dataset (default.xls)*\n",
    "\n",
    "This dataset employed a binary variable, default payment (Yes = 1, No = 0), as the response variable. This dataset used the following 23 variables as explanatory variables:\n",
    "- X1: Amount of the given credit (NT dollar): it includes both the individual consumer credit and his/her family (supplementary) credit.\n",
    "- X2: Gender (1 = male; 2 = female).\n",
    "- X3: Education (1 = graduate school; 2 = university; 3 = high school; 4 = others).\n",
    "- X4: Marital status (1 = married; 2 = single; 3 = others).\n",
    "- X5: Age (year).\n",
    "- X6 - X11: History of past payment. We tracked the past monthly payment records (from April to September, 2005) as follows: X6 = the repayment status in September, 2005; X7 = the repayment status in August, 2005; . . .;X11 = the repayment status in April, 2005. The measurement scale for the repayment status is: -1 = pay duly; 1 = payment delay for one month; 2 = payment delay for two months; . . .; 8 = payment delay for eight months; 9 = payment delay for nine months and above.\n",
    "- X12-X17: Amount of bill statement (NT dollar). X12 = amount of bill statement in September, 2005; X13 = amount of bill statement in August, 2005; . . .; X17 = amount of bill statement in April, 2005.\n",
    "- X18-X23: Amount of previous payment (NT dollar). X18 = amount paid in September, 2005; X19 = amount paid in August, 2005; . . .;X23 = amount paid in April, 2005.\n",
    "\n",
    "\n",
    "Answer the following questions using the provided dataset. You can write down intermediate results towards the final answers"
   ]
  },
  {
   "cell_type": "code",
   "execution_count": 1,
   "metadata": {},
   "outputs": [],
   "source": [
    "import pandas as pd\n",
    "import numpy as np\n",
    "import seaborn as sns\n",
    "import matplotlib.pyplot as plt"
   ]
  },
  {
   "cell_type": "code",
   "execution_count": 2,
   "metadata": {},
   "outputs": [
    {
     "data": {
      "text/html": [
       "<div>\n",
       "<style scoped>\n",
       "    .dataframe tbody tr th:only-of-type {\n",
       "        vertical-align: middle;\n",
       "    }\n",
       "\n",
       "    .dataframe tbody tr th {\n",
       "        vertical-align: top;\n",
       "    }\n",
       "\n",
       "    .dataframe thead th {\n",
       "        text-align: right;\n",
       "    }\n",
       "</style>\n",
       "<table border=\"1\" class=\"dataframe\">\n",
       "  <thead>\n",
       "    <tr style=\"text-align: right;\">\n",
       "      <th></th>\n",
       "      <th>Unnamed: 0</th>\n",
       "      <th>ID</th>\n",
       "      <th>LIMIT_BAL</th>\n",
       "      <th>SEX</th>\n",
       "      <th>EDUCATION</th>\n",
       "      <th>MARRIAGE</th>\n",
       "      <th>AGE</th>\n",
       "      <th>PAY_1</th>\n",
       "      <th>PAY_2</th>\n",
       "      <th>PAY_3</th>\n",
       "      <th>...</th>\n",
       "      <th>BILL_AMT6</th>\n",
       "      <th>PAY_AMT1</th>\n",
       "      <th>PAY_AMT2</th>\n",
       "      <th>PAY_AMT3</th>\n",
       "      <th>PAY_AMT4</th>\n",
       "      <th>PAY_AMT5</th>\n",
       "      <th>PAY_AMT6</th>\n",
       "      <th>default</th>\n",
       "      <th>credit_usage1</th>\n",
       "      <th>payback1</th>\n",
       "    </tr>\n",
       "  </thead>\n",
       "  <tbody>\n",
       "    <tr>\n",
       "      <th>0</th>\n",
       "      <td>0</td>\n",
       "      <td>1</td>\n",
       "      <td>20000</td>\n",
       "      <td>2</td>\n",
       "      <td>2</td>\n",
       "      <td>1</td>\n",
       "      <td>24</td>\n",
       "      <td>2</td>\n",
       "      <td>2</td>\n",
       "      <td>-1</td>\n",
       "      <td>...</td>\n",
       "      <td>0</td>\n",
       "      <td>0</td>\n",
       "      <td>689</td>\n",
       "      <td>0</td>\n",
       "      <td>0</td>\n",
       "      <td>0</td>\n",
       "      <td>0</td>\n",
       "      <td>1</td>\n",
       "      <td>0.195650</td>\n",
       "      <td>0.000000</td>\n",
       "    </tr>\n",
       "    <tr>\n",
       "      <th>1</th>\n",
       "      <td>1</td>\n",
       "      <td>2</td>\n",
       "      <td>120000</td>\n",
       "      <td>2</td>\n",
       "      <td>2</td>\n",
       "      <td>2</td>\n",
       "      <td>26</td>\n",
       "      <td>-1</td>\n",
       "      <td>2</td>\n",
       "      <td>0</td>\n",
       "      <td>...</td>\n",
       "      <td>3261</td>\n",
       "      <td>0</td>\n",
       "      <td>1000</td>\n",
       "      <td>1000</td>\n",
       "      <td>1000</td>\n",
       "      <td>0</td>\n",
       "      <td>2000</td>\n",
       "      <td>1</td>\n",
       "      <td>0.022350</td>\n",
       "      <td>0.000000</td>\n",
       "    </tr>\n",
       "    <tr>\n",
       "      <th>2</th>\n",
       "      <td>2</td>\n",
       "      <td>3</td>\n",
       "      <td>90000</td>\n",
       "      <td>2</td>\n",
       "      <td>2</td>\n",
       "      <td>2</td>\n",
       "      <td>34</td>\n",
       "      <td>0</td>\n",
       "      <td>0</td>\n",
       "      <td>0</td>\n",
       "      <td>...</td>\n",
       "      <td>15549</td>\n",
       "      <td>1518</td>\n",
       "      <td>1500</td>\n",
       "      <td>1000</td>\n",
       "      <td>1000</td>\n",
       "      <td>1000</td>\n",
       "      <td>5000</td>\n",
       "      <td>0</td>\n",
       "      <td>0.324878</td>\n",
       "      <td>0.051917</td>\n",
       "    </tr>\n",
       "    <tr>\n",
       "      <th>3</th>\n",
       "      <td>3</td>\n",
       "      <td>4</td>\n",
       "      <td>50000</td>\n",
       "      <td>2</td>\n",
       "      <td>2</td>\n",
       "      <td>1</td>\n",
       "      <td>37</td>\n",
       "      <td>0</td>\n",
       "      <td>0</td>\n",
       "      <td>0</td>\n",
       "      <td>...</td>\n",
       "      <td>29547</td>\n",
       "      <td>2000</td>\n",
       "      <td>2019</td>\n",
       "      <td>1200</td>\n",
       "      <td>1100</td>\n",
       "      <td>1069</td>\n",
       "      <td>1000</td>\n",
       "      <td>0</td>\n",
       "      <td>0.939800</td>\n",
       "      <td>0.042562</td>\n",
       "    </tr>\n",
       "    <tr>\n",
       "      <th>4</th>\n",
       "      <td>4</td>\n",
       "      <td>5</td>\n",
       "      <td>50000</td>\n",
       "      <td>1</td>\n",
       "      <td>2</td>\n",
       "      <td>1</td>\n",
       "      <td>57</td>\n",
       "      <td>-1</td>\n",
       "      <td>0</td>\n",
       "      <td>-1</td>\n",
       "      <td>...</td>\n",
       "      <td>19131</td>\n",
       "      <td>2000</td>\n",
       "      <td>36681</td>\n",
       "      <td>10000</td>\n",
       "      <td>9000</td>\n",
       "      <td>689</td>\n",
       "      <td>679</td>\n",
       "      <td>0</td>\n",
       "      <td>0.172340</td>\n",
       "      <td>0.232099</td>\n",
       "    </tr>\n",
       "  </tbody>\n",
       "</table>\n",
       "<p>5 rows × 28 columns</p>\n",
       "</div>"
      ],
      "text/plain": [
       "   Unnamed: 0  ID  LIMIT_BAL  SEX  EDUCATION  MARRIAGE  AGE  PAY_1  PAY_2  \\\n",
       "0           0   1      20000    2          2         1   24      2      2   \n",
       "1           1   2     120000    2          2         2   26     -1      2   \n",
       "2           2   3      90000    2          2         2   34      0      0   \n",
       "3           3   4      50000    2          2         1   37      0      0   \n",
       "4           4   5      50000    1          2         1   57     -1      0   \n",
       "\n",
       "   PAY_3  ...  BILL_AMT6  PAY_AMT1  PAY_AMT2  PAY_AMT3  PAY_AMT4  PAY_AMT5  \\\n",
       "0     -1  ...          0         0       689         0         0         0   \n",
       "1      0  ...       3261         0      1000      1000      1000         0   \n",
       "2      0  ...      15549      1518      1500      1000      1000      1000   \n",
       "3      0  ...      29547      2000      2019      1200      1100      1069   \n",
       "4     -1  ...      19131      2000     36681     10000      9000       689   \n",
       "\n",
       "   PAY_AMT6  default  credit_usage1  payback1  \n",
       "0         0        1       0.195650  0.000000  \n",
       "1      2000        1       0.022350  0.000000  \n",
       "2      5000        0       0.324878  0.051917  \n",
       "3      1000        0       0.939800  0.042562  \n",
       "4       679        0       0.172340  0.232099  \n",
       "\n",
       "[5 rows x 28 columns]"
      ]
     },
     "execution_count": 2,
     "metadata": {},
     "output_type": "execute_result"
    }
   ],
   "source": [
    "df=pd.read_excel(\"credit_default.xls\")\n",
    "df.head()"
   ]
  },
  {
   "cell_type": "code",
   "execution_count": 3,
   "metadata": {},
   "outputs": [],
   "source": [
    "df=pd.DataFrame(df.iloc[:,1:])"
   ]
  },
  {
   "cell_type": "markdown",
   "metadata": {},
   "source": [
    "**Question 1.1 (20 points)** First, split the data into train (80%) and test set (20%). Use logistic regression from scikit-learn library (with the default hyperparameter) to train on the training set and predict the default of customers in the test set. Report the accuracy, confusion matrix, precision, recall and F1 score on train and test set. Explain whether the Logistic Model is useful in predicting the default behavior."
   ]
  },
  {
   "cell_type": "code",
   "execution_count": 4,
   "metadata": {},
   "outputs": [],
   "source": [
    "X_full, y_full = df.drop([\"default\",\"ID\",\"credit_usage1\" ,\"payback1\"], axis=1) ,df[\"default\"]"
   ]
  },
  {
   "cell_type": "code",
   "execution_count": 5,
   "metadata": {},
   "outputs": [
    {
     "data": {
      "text/plain": [
       "Index(['LIMIT_BAL', 'SEX', 'EDUCATION', 'MARRIAGE', 'AGE', 'PAY_1', 'PAY_2',\n",
       "       'PAY_3', 'PAY_4', 'PAY_5', 'PAY_6', 'BILL_AMT1', 'BILL_AMT2',\n",
       "       'BILL_AMT3', 'BILL_AMT4', 'BILL_AMT5', 'BILL_AMT6', 'PAY_AMT1',\n",
       "       'PAY_AMT2', 'PAY_AMT3', 'PAY_AMT4', 'PAY_AMT5', 'PAY_AMT6'],\n",
       "      dtype='object')"
      ]
     },
     "execution_count": 5,
     "metadata": {},
     "output_type": "execute_result"
    }
   ],
   "source": [
    "X_full.describe()\n",
    "X_full.columns"
   ]
  },
  {
   "cell_type": "code",
   "execution_count": 6,
   "metadata": {},
   "outputs": [],
   "source": [
    "from sklearn.preprocessing import OneHotEncoder\n",
    "encoder = OneHotEncoder(handle_unknown='ignore', sparse=False)\n",
    "enc_var = encoder.fit_transform(X_full[['SEX', 'EDUCATION',  'MARRIAGE']] )\n",
    "X_full=pd.DataFrame(np.hstack((X_full.drop(['SEX', 'EDUCATION', 'MARRIAGE'],axis=1), enc_var)))\n",
    "\n",
    "X_full.columns=[ 'LIMIT_BAL','AGE', 'PAY_1', 'PAY_2',\n",
    "       'PAY_3', 'PAY_4', 'PAY_5', 'PAY_6', 'BILL_AMT1', 'BILL_AMT2',\n",
    "       'BILL_AMT3', 'BILL_AMT4', 'BILL_AMT5', 'BILL_AMT6', 'PAY_AMT1',\n",
    "       'PAY_AMT2', 'PAY_AMT3', 'PAY_AMT4', 'PAY_AMT5', 'PAY_AMT6','SEX1','SEX2',\n",
    "                'ED1', 'ED2', 'ED3', 'ED4', 'MAR1', 'MAR2', 'MAR3']"
   ]
  },
  {
   "cell_type": "code",
   "execution_count": 7,
   "metadata": {},
   "outputs": [],
   "source": [
    "from sklearn.model_selection import train_test_split\n",
    "X_train, X_test, y_train, y_test = train_test_split(X_full, y_full, test_size=0.2, random_state=42)"
   ]
  },
  {
   "cell_type": "code",
   "execution_count": 8,
   "metadata": {},
   "outputs": [
    {
     "name": "stdout",
     "output_type": "stream",
     "text": [
      "[[4591    0]\n",
      " [1330    0]]\n"
     ]
    },
    {
     "data": {
      "text/plain": [
       "(Text(33.0, 0.5, 'True Label'), Text(0.5, 15.0, 'Predicted'))"
      ]
     },
     "execution_count": 8,
     "metadata": {},
     "output_type": "execute_result"
    },
    {
     "data": {
      "image/png": "[encoded data removed]",
      "text/plain": [
       "<Figure size 432x288 with 1 Axes>"
      ]
     },
     "metadata": {
      "needs_background": "light"
     },
     "output_type": "display_data"
    }
   ],
   "source": [
    "from sklearn.linear_model import LogisticRegression\n",
    "log_reg = LogisticRegression(random_state=42, solver='liblinear')\n",
    "log_reg.fit(X_train, y_train)\n",
    "y_pred = log_reg.predict(X_test) \n",
    "\n",
    "\n",
    "from sklearn import metrics\n",
    "cm = metrics.confusion_matrix(y_test, y_pred)\n",
    "print(cm)\n",
    "## The result is telling us that we have 4591+0 correct predictions and 1330+0 incorrect predictions.\n",
    "cm=pd.DataFrame(cm, columns=[\"No Default\", \"Default\"], index=[\"No Default\", \"Default\"])\n",
    "\n",
    "sns.heatmap(cm, annot=True,cbar=False, fmt=\"g\")\n",
    "plt.title(\"Confusion Matrix on Test Set\")\n",
    "plt.ylabel(\"True Label\"), plt.xlabel(\"Predicted\")"
   ]
  },
  {
   "cell_type": "code",
   "execution_count": 9,
   "metadata": {},
   "outputs": [
    {
     "name": "stdout",
     "output_type": "stream",
     "text": [
      "The accuracy rate on the Test set is:  0.7753757811180544\n",
      "The precision rate on the Test set is:  0.0\n",
      "The recall rate on the Test set is:  0.0\n",
      "The F1-score on the Test set is:  0.0\n"
     ]
    },
    {
     "name": "stderr",
     "output_type": "stream",
     "text": [
      "C:\\Users\\Pierfrancesco\\Anaconda3\\lib\\site-packages\\sklearn\\metrics\\classification.py:1437: UndefinedMetricWarning: Precision is ill-defined and being set to 0.0 due to no predicted samples.\n",
      "  'precision', 'predicted', average, warn_for)\n",
      "C:\\Users\\Pierfrancesco\\Anaconda3\\lib\\site-packages\\sklearn\\metrics\\classification.py:1437: UndefinedMetricWarning: F-score is ill-defined and being set to 0.0 due to no predicted samples.\n",
      "  'precision', 'predicted', average, warn_for)\n"
     ]
    }
   ],
   "source": [
    "print(\"The accuracy rate on the Test set is: \",metrics.accuracy_score(y_test, y_pred))\n",
    "print(\"The precision rate on the Test set is: \",metrics.precision_score(y_test, y_pred))\n",
    "print(\"The recall rate on the Test set is: \",metrics.recall_score(y_test, y_pred))\n",
    "print(\"The F1-score on the Test set is: \",metrics.f1_score(y_test, y_pred))"
   ]
  },
  {
   "cell_type": "code",
   "execution_count": 10,
   "metadata": {},
   "outputs": [
    {
     "name": "stdout",
     "output_type": "stream",
     "text": [
      "[[18403     2]\n",
      " [ 5275     0]]\n"
     ]
    },
    {
     "data": {
      "text/plain": [
       "(Text(33.0, 0.5, 'True Label'), Text(0.5, 15.0, 'Predicted'))"
      ]
     },
     "execution_count": 10,
     "metadata": {},
     "output_type": "execute_result"
    },
    {
     "data": {
      "image/png": "[encoded data removed]",
      "text/plain": [
       "<Figure size 432x288 with 1 Axes>"
      ]
     },
     "metadata": {
      "needs_background": "light"
     },
     "output_type": "display_data"
    }
   ],
   "source": [
    "from sklearn import metrics\n",
    "from sklearn.linear_model import LogisticRegression\n",
    "log_reg = LogisticRegression(random_state=42, solver='liblinear')\n",
    "log_reg.fit(X_train, y_train)\n",
    "y_pred = log_reg.predict(X_train) \n",
    "cm = metrics.confusion_matrix(y_train, y_pred)\n",
    "print(cm)\n",
    "\n",
    "## The result is telling us that we have 18403+2 correct predictions and 5275+0 incorrect predictions.\n",
    "cm=pd.DataFrame(cm, columns=[\"No Default\", \"Default\"], index=[\"No Default\", \"Default\"])\n",
    "\n",
    "sns.heatmap(cm, annot=True,cbar=False, fmt=\"g\")\n",
    "plt.title(\"Confusion Matrix on Train Set\")\n",
    "plt.ylabel(\"True Label\"), plt.xlabel(\"Predicted\")"
   ]
  },
  {
   "cell_type": "code",
   "execution_count": 11,
   "metadata": {},
   "outputs": [
    {
     "name": "stdout",
     "output_type": "stream",
     "text": [
      "The accuracy rate on the Train set is:  0.7771537162162162\n",
      "The precision rate on the Train set is:  0.0\n",
      "The recall rate on the Train set is:  0.0\n",
      "The F1-score on the Train set is:  0.0\n"
     ]
    }
   ],
   "source": [
    "print(\"The accuracy rate on the Train set is: \",metrics.accuracy_score(y_train, y_pred))\n",
    "print(\"The precision rate on the Train set is: \",metrics.precision_score(y_train, y_pred))\n",
    "print(\"The recall rate on the Train set is: \",metrics.recall_score(y_train, y_pred))\n",
    "print(\"The F1-score on the Train set is: \",metrics.f1_score(y_train, y_pred))"
   ]
  },
  {
   "cell_type": "markdown",
   "metadata": {},
   "source": [
    "**Question 1.2 (20 points)** Perform 10-fold cross-validation Logistic regression with three different regularization settings on training set (L1, L2, Elastic Net) by varying the hyperparemter of C (the regularizer) and l1_ratio if applicable in elastic net. Then predict the default of customers in the test set. Report the accuracy, confusion matrix, precision, recall and F1 score on both training set and test set. "
   ]
  },
  {
   "cell_type": "code",
   "execution_count": 12,
   "metadata": {},
   "outputs": [
    {
     "name": "stdout",
     "output_type": "stream",
     "text": [
      "Confusion Metrix with penalty l1 and C 1.0 \n",
      " [[17881   524]\n",
      " [ 3917  1358]] \n",
      " Accuracy 0.8124577702702702 \n",
      " Precision 0.7215727948990436 \n",
      " Recall 0.2574407582938389 \n",
      " F1-Score 0.3794886125471566\n",
      "Confusion Metrix with penalty l1 and C 0.8 \n",
      " [[17881   524]\n",
      " [ 3916  1359]] \n",
      " Accuracy 0.8125 \n",
      " Precision 0.7217206585236325 \n",
      " Recall 0.2576303317535545 \n",
      " F1-Score 0.3797150041911148\n",
      "Confusion Metrix with penalty l1 and C 0.6 \n",
      " [[17880   525]\n",
      " [ 3916  1359]] \n",
      " Accuracy 0.8124577702702702 \n",
      " Precision 0.7213375796178344 \n",
      " Recall 0.2576303317535545 \n",
      " F1-Score 0.3796619639614471\n",
      "Confusion Metrix with penalty l1 and C 0.4 \n",
      " [[17881   524]\n",
      " [ 3918  1357]] \n",
      " Accuracy 0.8124155405405405 \n",
      " Precision 0.721424774056353 \n",
      " Recall 0.25725118483412324 \n",
      " F1-Score 0.3792621576299609\n",
      "Confusion Metrix with penalty l1 and C 0.2 \n",
      " [[17883   522]\n",
      " [ 3922  1353]] \n",
      " Accuracy 0.8123310810810811 \n",
      " Precision 0.7216 \n",
      " Recall 0.2564928909952607 \n",
      " F1-Score 0.3784615384615385\n",
      "Confusion Metrix with penalty l1 and C 0.1 \n",
      " [[17886   519]\n",
      " [ 3916  1359]] \n",
      " Accuracy 0.8127111486486487 \n",
      " Precision 0.7236421725239617 \n",
      " Recall 0.2576303317535545 \n",
      " F1-Score 0.3799804277925346\n",
      "Confusion Metrix with penalty l2 and C 1.0 \n",
      " [[18403     2]\n",
      " [ 5275     0]] \n",
      " Accuracy 0.7771537162162162 \n",
      " Precision 0.0 \n",
      " Recall 0.0 \n",
      " F1-Score 0.0\n",
      "Confusion Metrix with penalty l2 and C 0.8 \n",
      " [[18403     2]\n",
      " [ 5275     0]] \n",
      " Accuracy 0.7771537162162162 \n",
      " Precision 0.0 \n",
      " Recall 0.0 \n",
      " F1-Score 0.0\n",
      "Confusion Metrix with penalty l2 and C 0.6 \n",
      " [[18402     3]\n",
      " [ 5274     1]] \n",
      " Accuracy 0.7771537162162162 \n",
      " Precision 0.25 \n",
      " Recall 0.0001895734597156398 \n",
      " F1-Score 0.00037885963250615644\n",
      "Confusion Metrix with penalty l2 and C 0.4 \n",
      " [[18402     3]\n",
      " [ 5275     0]] \n",
      " Accuracy 0.7771114864864865 \n",
      " Precision 0.0 \n",
      " Recall 0.0 \n",
      " F1-Score 0.0\n",
      "Confusion Metrix with penalty l2 and C 0.2 \n",
      " [[18402     3]\n",
      " [ 5274     1]] \n",
      " Accuracy 0.7771537162162162 \n",
      " Precision 0.25 \n",
      " Recall 0.0001895734597156398 \n",
      " F1-Score 0.00037885963250615644\n",
      "Confusion Metrix with penalty l2 and C 0.1 \n",
      " [[18402     3]\n",
      " [ 5275     0]] \n",
      " Accuracy 0.7771114864864865 \n",
      " Precision 0.0 \n",
      " Recall 0.0 \n",
      " F1-Score 0.0\n",
      "Confusion Metrix with penalty elasticnet, C 1.0, l1_ratio 1.0 \n",
      " [[18398     7]\n",
      " [ 5273     2]] \n",
      " Accuracy 0.777027027027027 \n",
      " Precision 0.2222222222222222 \n",
      " Recall 0.0003791469194312796 \n",
      " F1-Score 0.000757002271006813\n",
      "Confusion Metrix with penalty elasticnet, C 0.8, l1_ratio 1.0 \n",
      " [[18398     7]\n",
      " [ 5273     2]] \n",
      " Accuracy 0.777027027027027 \n",
      " Precision 0.2222222222222222 \n",
      " Recall 0.0003791469194312796 \n",
      " F1-Score 0.000757002271006813\n",
      "Confusion Metrix with penalty elasticnet, C 0.6, l1_ratio 1.0 \n",
      " [[18398     7]\n",
      " [ 5273     2]] \n",
      " Accuracy 0.777027027027027 \n",
      " Precision 0.2222222222222222 \n",
      " Recall 0.0003791469194312796 \n",
      " F1-Score 0.000757002271006813\n",
      "Confusion Metrix with penalty elasticnet, C 0.4, l1_ratio 1.0 \n",
      " [[18398     7]\n",
      " [ 5273     2]] \n",
      " Accuracy 0.777027027027027 \n",
      " Precision 0.2222222222222222 \n",
      " Recall 0.0003791469194312796 \n",
      " F1-Score 0.000757002271006813\n",
      "Confusion Metrix with penalty elasticnet, C 0.2, l1_ratio 1.0 \n",
      " [[18398     7]\n",
      " [ 5273     2]] \n",
      " Accuracy 0.777027027027027 \n",
      " Precision 0.2222222222222222 \n",
      " Recall 0.0003791469194312796 \n",
      " F1-Score 0.000757002271006813\n",
      "Confusion Metrix with penalty elasticnet, C 0.1, l1_ratio 1.0 \n",
      " [[18398     7]\n",
      " [ 5273     2]] \n",
      " Accuracy 0.777027027027027 \n",
      " Precision 0.2222222222222222 \n",
      " Recall 0.0003791469194312796 \n",
      " F1-Score 0.000757002271006813\n",
      "Confusion Metrix with penalty elasticnet, C 1.0, l1_ratio 0.8 \n",
      " [[18398     7]\n",
      " [ 5273     2]] \n",
      " Accuracy 0.777027027027027 \n",
      " Precision 0.2222222222222222 \n",
      " Recall 0.0003791469194312796 \n",
      " F1-Score 0.000757002271006813\n",
      "Confusion Metrix with penalty elasticnet, C 0.8, l1_ratio 0.8 \n",
      " [[18398     7]\n",
      " [ 5273     2]] \n",
      " Accuracy 0.777027027027027 \n",
      " Precision 0.2222222222222222 \n",
      " Recall 0.0003791469194312796 \n",
      " F1-Score 0.000757002271006813\n",
      "Confusion Metrix with penalty elasticnet, C 0.6, l1_ratio 0.8 \n",
      " [[18398     7]\n",
      " [ 5273     2]] \n",
      " Accuracy 0.777027027027027 \n",
      " Precision 0.2222222222222222 \n",
      " Recall 0.0003791469194312796 \n",
      " F1-Score 0.000757002271006813\n",
      "Confusion Metrix with penalty elasticnet, C 0.4, l1_ratio 0.8 \n",
      " [[18398     7]\n",
      " [ 5273     2]] \n",
      " Accuracy 0.777027027027027 \n",
      " Precision 0.2222222222222222 \n",
      " Recall 0.0003791469194312796 \n",
      " F1-Score 0.000757002271006813\n",
      "Confusion Metrix with penalty elasticnet, C 0.2, l1_ratio 0.8 \n",
      " [[18398     7]\n",
      " [ 5273     2]] \n",
      " Accuracy 0.777027027027027 \n",
      " Precision 0.2222222222222222 \n",
      " Recall 0.0003791469194312796 \n",
      " F1-Score 0.000757002271006813\n",
      "Confusion Metrix with penalty elasticnet, C 0.1, l1_ratio 0.8 \n",
      " [[18398     7]\n",
      " [ 5273     2]] \n",
      " Accuracy 0.777027027027027 \n",
      " Precision 0.2222222222222222 \n",
      " Recall 0.0003791469194312796 \n",
      " F1-Score 0.000757002271006813\n",
      "Confusion Metrix with penalty elasticnet, C 1.0, l1_ratio 0.6 \n",
      " [[18398     7]\n",
      " [ 5273     2]] \n",
      " Accuracy 0.777027027027027 \n",
      " Precision 0.2222222222222222 \n",
      " Recall 0.0003791469194312796 \n",
      " F1-Score 0.000757002271006813\n",
      "Confusion Metrix with penalty elasticnet, C 0.8, l1_ratio 0.6 \n",
      " [[18398     7]\n",
      " [ 5273     2]] \n",
      " Accuracy 0.777027027027027 \n",
      " Precision 0.2222222222222222 \n",
      " Recall 0.0003791469194312796 \n",
      " F1-Score 0.000757002271006813\n",
      "Confusion Metrix with penalty elasticnet, C 0.6, l1_ratio 0.6 \n",
      " [[18398     7]\n",
      " [ 5273     2]] \n",
      " Accuracy 0.777027027027027 \n",
      " Precision 0.2222222222222222 \n",
      " Recall 0.0003791469194312796 \n",
      " F1-Score 0.000757002271006813\n",
      "Confusion Metrix with penalty elasticnet, C 0.4, l1_ratio 0.6 \n",
      " [[18398     7]\n",
      " [ 5273     2]] \n",
      " Accuracy 0.777027027027027 \n",
      " Precision 0.2222222222222222 \n",
      " Recall 0.0003791469194312796 \n",
      " F1-Score 0.000757002271006813\n",
      "Confusion Metrix with penalty elasticnet, C 0.2, l1_ratio 0.6 \n",
      " [[18398     7]\n",
      " [ 5273     2]] \n",
      " Accuracy 0.777027027027027 \n",
      " Precision 0.2222222222222222 \n",
      " Recall 0.0003791469194312796 \n",
      " F1-Score 0.000757002271006813\n",
      "Confusion Metrix with penalty elasticnet, C 0.1, l1_ratio 0.6 \n",
      " [[18398     7]\n",
      " [ 5273     2]] \n",
      " Accuracy 0.777027027027027 \n",
      " Precision 0.2222222222222222 \n",
      " Recall 0.0003791469194312796 \n",
      " F1-Score 0.000757002271006813\n",
      "Confusion Metrix with penalty elasticnet, C 1.0, l1_ratio 0.4 \n",
      " [[18398     7]\n",
      " [ 5273     2]] \n",
      " Accuracy 0.777027027027027 \n",
      " Precision 0.2222222222222222 \n",
      " Recall 0.0003791469194312796 \n",
      " F1-Score 0.000757002271006813\n",
      "Confusion Metrix with penalty elasticnet, C 0.8, l1_ratio 0.4 \n",
      " [[18398     7]\n",
      " [ 5273     2]] \n",
      " Accuracy 0.777027027027027 \n",
      " Precision 0.2222222222222222 \n",
      " Recall 0.0003791469194312796 \n",
      " F1-Score 0.000757002271006813\n",
      "Confusion Metrix with penalty elasticnet, C 0.6, l1_ratio 0.4 \n",
      " [[18398     7]\n",
      " [ 5273     2]] \n",
      " Accuracy 0.777027027027027 \n",
      " Precision 0.2222222222222222 \n",
      " Recall 0.0003791469194312796 \n",
      " F1-Score 0.000757002271006813\n",
      "Confusion Metrix with penalty elasticnet, C 0.4, l1_ratio 0.4 \n",
      " [[18398     7]\n",
      " [ 5273     2]] \n",
      " Accuracy 0.777027027027027 \n",
      " Precision 0.2222222222222222 \n",
      " Recall 0.0003791469194312796 \n",
      " F1-Score 0.000757002271006813\n",
      "Confusion Metrix with penalty elasticnet, C 0.2, l1_ratio 0.4 \n",
      " [[18398     7]\n",
      " [ 5273     2]] \n",
      " Accuracy 0.777027027027027 \n",
      " Precision 0.2222222222222222 \n",
      " Recall 0.0003791469194312796 \n",
      " F1-Score 0.000757002271006813\n",
      "Confusion Metrix with penalty elasticnet, C 0.1, l1_ratio 0.4 \n",
      " [[18398     7]\n",
      " [ 5273     2]] \n",
      " Accuracy 0.777027027027027 \n",
      " Precision 0.2222222222222222 \n",
      " Recall 0.0003791469194312796 \n",
      " F1-Score 0.000757002271006813\n",
      "Confusion Metrix with penalty elasticnet, C 1.0, l1_ratio 0.2 \n",
      " [[18398     7]\n",
      " [ 5273     2]] \n",
      " Accuracy 0.777027027027027 \n",
      " Precision 0.2222222222222222 \n",
      " Recall 0.0003791469194312796 \n",
      " F1-Score 0.000757002271006813\n",
      "Confusion Metrix with penalty elasticnet, C 0.8, l1_ratio 0.2 \n",
      " [[18398     7]\n",
      " [ 5273     2]] \n",
      " Accuracy 0.777027027027027 \n",
      " Precision 0.2222222222222222 \n",
      " Recall 0.0003791469194312796 \n",
      " F1-Score 0.000757002271006813\n",
      "Confusion Metrix with penalty elasticnet, C 0.6, l1_ratio 0.2 \n",
      " [[18398     7]\n",
      " [ 5273     2]] \n",
      " Accuracy 0.777027027027027 \n",
      " Precision 0.2222222222222222 \n",
      " Recall 0.0003791469194312796 \n",
      " F1-Score 0.000757002271006813\n",
      "Confusion Metrix with penalty elasticnet, C 0.4, l1_ratio 0.2 \n",
      " [[18398     7]\n",
      " [ 5273     2]] \n",
      " Accuracy 0.777027027027027 \n",
      " Precision 0.2222222222222222 \n",
      " Recall 0.0003791469194312796 \n",
      " F1-Score 0.000757002271006813\n"
     ]
    },
    {
     "name": "stdout",
     "output_type": "stream",
     "text": [
      "Confusion Metrix with penalty elasticnet, C 0.2, l1_ratio 0.2 \n",
      " [[18398     7]\n",
      " [ 5273     2]] \n",
      " Accuracy 0.777027027027027 \n",
      " Precision 0.2222222222222222 \n",
      " Recall 0.0003791469194312796 \n",
      " F1-Score 0.000757002271006813\n",
      "Confusion Metrix with penalty elasticnet, C 0.1, l1_ratio 0.2 \n",
      " [[18398     7]\n",
      " [ 5273     2]] \n",
      " Accuracy 0.777027027027027 \n",
      " Precision 0.2222222222222222 \n",
      " Recall 0.0003791469194312796 \n",
      " F1-Score 0.000757002271006813\n",
      "Confusion Metrix with penalty elasticnet, C 1.0, l1_ratio 0 \n",
      " [[18398     7]\n",
      " [ 5273     2]] \n",
      " Accuracy 0.777027027027027 \n",
      " Precision 0.2222222222222222 \n",
      " Recall 0.0003791469194312796 \n",
      " F1-Score 0.000757002271006813\n",
      "Confusion Metrix with penalty elasticnet, C 0.8, l1_ratio 0 \n",
      " [[18398     7]\n",
      " [ 5273     2]] \n",
      " Accuracy 0.777027027027027 \n",
      " Precision 0.2222222222222222 \n",
      " Recall 0.0003791469194312796 \n",
      " F1-Score 0.000757002271006813\n",
      "Confusion Metrix with penalty elasticnet, C 0.6, l1_ratio 0 \n",
      " [[18398     7]\n",
      " [ 5273     2]] \n",
      " Accuracy 0.777027027027027 \n",
      " Precision 0.2222222222222222 \n",
      " Recall 0.0003791469194312796 \n",
      " F1-Score 0.000757002271006813\n",
      "Confusion Metrix with penalty elasticnet, C 0.4, l1_ratio 0 \n",
      " [[18398     7]\n",
      " [ 5273     2]] \n",
      " Accuracy 0.777027027027027 \n",
      " Precision 0.2222222222222222 \n",
      " Recall 0.0003791469194312796 \n",
      " F1-Score 0.000757002271006813\n",
      "Confusion Metrix with penalty elasticnet, C 0.2, l1_ratio 0 \n",
      " [[18398     7]\n",
      " [ 5273     2]] \n",
      " Accuracy 0.777027027027027 \n",
      " Precision 0.2222222222222222 \n",
      " Recall 0.0003791469194312796 \n",
      " F1-Score 0.000757002271006813\n",
      "Confusion Metrix with penalty elasticnet, C 0.1, l1_ratio 0 \n",
      " [[18398     7]\n",
      " [ 5273     2]] \n",
      " Accuracy 0.777027027027027 \n",
      " Precision 0.2222222222222222 \n",
      " Recall 0.0003791469194312796 \n",
      " F1-Score 0.000757002271006813\n"
     ]
    }
   ],
   "source": [
    "from sklearn.model_selection import cross_val_predict\n",
    "\n",
    "from sklearn.metrics import accuracy_score, precision_score, recall_score, f1_score, confusion_matrix\n",
    "\n",
    "penalty_value=[\"l1\", \"l2\"]\n",
    "C_value=[1.0,0.8,0.6,0.4,0.2,0.1]\n",
    "l1_ratio_val=[1.0,0.8,0.6,0.4,0.2,0]\n",
    "\n",
    "res_best_model=[]\n",
    "\n",
    "for i in penalty_value:\n",
    "    for j in C_value:\n",
    "        ## Logistic regression with Lasso L1 and Ridge L2 regularization (C and penalty loop adjustment)\n",
    "        log_reg=LogisticRegression(penalty=i, C=j, random_state=42)\n",
    "        ## CV 10-fold prediction on the Train Set\n",
    "        y_predict = cross_val_predict( log_reg, X_train, y_train, cv=10, n_jobs =-1)\n",
    "        print(\"Confusion Metrix with penalty {} and C {}\".format(i,j), \"\\n\", confusion_matrix(y_train, y_predict),\n",
    "             \"\\n Accuracy {}\".format(accuracy_score(y_train, y_predict)),\n",
    "             \"\\n Precision {}\".format(precision_score(y_train, y_predict)),\n",
    "             \"\\n Recall {}\".format(recall_score(y_train, y_predict)) ,\n",
    "             \"\\n F1-Score {}\".format(f1_score(y_train, y_predict))  )\n",
    "        res_best_model.append(tuple([i,j,accuracy_score(y_train, y_predict)]))\n",
    "\n",
    "for z in l1_ratio_val:\n",
    "    for j in C_value: \n",
    "        ## Logistic regression with Elastic Net regularization (C and penalty loop adjustment)\n",
    "        log_reg=LogisticRegression(penalty=\"elasticnet\",solver=\"saga\", C=j, random_state=42, l1_ratio=z)\n",
    "        ## CV 10-fold prediction on the Train Set\n",
    "        y_predict = cross_val_predict( log_reg, X_train, y_train, cv=10, n_jobs =-1)\n",
    "        print(\"Confusion Metrix with penalty elasticnet, C {}, l1_ratio {}\".format(j,z), \"\\n\", confusion_matrix(y_train, y_predict),\n",
    "             \"\\n Accuracy {}\".format(accuracy_score(y_train, y_predict)),\n",
    "             \"\\n Precision {}\".format(precision_score(y_train, y_predict)),\n",
    "             \"\\n Recall {}\".format(recall_score(y_train, y_predict)) ,\n",
    "             \"\\n F1-Score {}\".format(f1_score(y_train, y_predict))  )\n",
    "        res_best_model.append(tuple([z,j,accuracy_score(y_train, y_predict)]))"
   ]
  },
  {
   "cell_type": "markdown",
   "metadata": {},
   "source": [
    "The best model which offer the highest accuracy rate  on the prediction for the Train Set is: _\"penalty l1 and C 0.1\"_"
   ]
  },
  {
   "cell_type": "code",
   "execution_count": 13,
   "metadata": {},
   "outputs": [
    {
     "data": {
      "text/plain": [
       "('l1', 0.1, 0.8127111486486487)"
      ]
     },
     "execution_count": 13,
     "metadata": {},
     "output_type": "execute_result"
    }
   ],
   "source": [
    "max(res_best_model, key = lambda i : i[2]) "
   ]
  },
  {
   "cell_type": "code",
   "execution_count": 28,
   "metadata": {},
   "outputs": [
    {
     "name": "stdout",
     "output_type": "stream",
     "text": [
      "The accuracy of model on test set is 0.8018915723695321\n",
      "The precision_score of model on test set is 0.22330827067669173\n",
      "The recall_score of model on test set is 0.6796338672768879\n",
      "The f1_score of model on test set is 0.3361629881154499\n",
      "The confusion_matrix of model on test set is \n",
      " [[4451 1033]\n",
      " [ 140  297]]\n"
     ]
    }
   ],
   "source": [
    "##  predict the default of customers in the test set with the BEST MODEL \n",
    "log_reg = LogisticRegression(penalty=\"l1\", C=0.1,random_state=42, solver='liblinear').fit(X_train, y_train)\n",
    "\n",
    "y_predict_test = log_reg.predict(X_test)\n",
    "\n",
    "print(\"The accuracy of model on test set is {}\".format(accuracy_score(y_predict_test, y_test)))\n",
    "print(\"The precision_score of model on test set is {}\".format(precision_score(y_predict_test, y_test)))\n",
    "print(\"The recall_score of model on test set is {}\".format(recall_score(y_predict_test, y_test)))\n",
    "print(\"The f1_score of model on test set is {}\".format(f1_score(y_predict_test, y_test)))\n",
    "print(\"The confusion_matrix of model on test set is \\n {}\".format(confusion_matrix(y_predict_test, y_test)))"
   ]
  },
  {
   "cell_type": "markdown",
   "metadata": {},
   "source": [
    "**Question 1.3 (20 points)** Plot the ROC curve for the model learned in Question 1.2. What is the TPR and FPR when the probability threshold is 0.5. Adjust the probability threshold to 0.75, and then show TPR and FPR again. What is the AUC score under two different probability thresholds? Show the learning curve (the accuracy with respect to training set size) when you are training using [10, 100, 10]% of samples using cross-validation (10%, 20%..., 90%, 100%). Explain whether your model would benefit from additional data."
   ]
  },
  {
   "cell_type": "code",
   "execution_count": 29,
   "metadata": {},
   "outputs": [
    {
     "name": "stderr",
     "output_type": "stream",
     "text": [
      "C:\\Users\\Pierfrancesco\\Anaconda3\\lib\\site-packages\\sklearn\\linear_model\\logistic.py:432: FutureWarning: Default solver will be changed to 'lbfgs' in 0.22. Specify a solver to silence this warning.\n",
      "  FutureWarning)\n"
     ]
    }
   ],
   "source": [
    "from sklearn.metrics import roc_curve, auc\n",
    "log_reg=LogisticRegression(penalty=\"l1\", C=0.1, random_state=42).fit(X_train, y_train)\n",
    "## predict the probability on the Test set \n",
    "y_pred_P = log_reg.predict_proba(X_test)[:,1]\n",
    "## extrapolate the False Positive rate & True Positive rate\n",
    "fpr, tpr, thresholds = roc_curve(y_test, y_pred_P) \n",
    "## False Positive rate and True Positive rate grid creation for AUC/ROC chart\n",
    "roc_auc = auc(fpr, tpr)"
   ]
  },
  {
   "cell_type": "code",
   "execution_count": 30,
   "metadata": {},
   "outputs": [
    {
     "data": {
      "image/png": "[encoded data removed]",
      "text/plain": [
       "<Figure size 504x360 with 1 Axes>"
      ]
     },
     "metadata": {
      "needs_background": "light"
     },
     "output_type": "display_data"
    }
   ],
   "source": [
    "## plot the ROC curve \n",
    "def plot_roc_curve(fpr, tpr, label=None):\n",
    "    plt.plot(fpr, tpr, linewidth=2, label='ROC curve (area = {})'.format(round(roc_auc,4)))\n",
    "    plt.legend(loc='lower center')\n",
    "    plt.plot([0, 1], [0, 1], 'k--')\n",
    "    plt.axis([0, 1, 0, 1])\n",
    "    plt.xlabel('False Positive rate', fontsize=16)\n",
    "    plt.ylabel('True Positive rate', fontsize=16)\n",
    "\n",
    "plt.figure(figsize=(7, 5))\n",
    "plot_roc_curve(fpr, tpr)\n",
    "\n",
    "plt.show()"
   ]
  },
  {
   "cell_type": "code",
   "execution_count": 31,
   "metadata": {},
   "outputs": [
    {
     "name": "stdout",
     "output_type": "stream",
     "text": [
      "True Positive Rate & False Positive Rate when the threshold is 0.5 : 0.2241 ; 0.0305\n"
     ]
    }
   ],
   "source": [
    "print('True Positive Rate & False Positive Rate when the threshold is 0.5 : {0:1.4f} ; {1:1.4f}'\n",
    "      .format(tpr[np.argmin(np.abs(thresholds - 0.5))],fpr[np.argmin(np.abs(thresholds - 0.5))]))"
   ]
  },
  {
   "cell_type": "code",
   "execution_count": 32,
   "metadata": {},
   "outputs": [
    {
     "name": "stdout",
     "output_type": "stream",
     "text": [
      "True Positive Rate & False Positive Rate when the threshold is 0.75 : 0.0271 ; 0.0033\n"
     ]
    }
   ],
   "source": [
    "print('True Positive Rate & False Positive Rate when the threshold is 0.75 : {0:1.4f} ; {1:1.4f}'\n",
    "      .format(tpr[np.argmin(np.abs(thresholds - 0.75))], fpr[np.argmin(np.abs(thresholds - 0.75))]))"
   ]
  },
  {
   "cell_type": "code",
   "execution_count": 33,
   "metadata": {},
   "outputs": [
    {
     "data": {
      "text/plain": [
       "0.7144434272350447"
      ]
     },
     "execution_count": 33,
     "metadata": {},
     "output_type": "execute_result"
    }
   ],
   "source": [
    "from sklearn.metrics import roc_auc_score\n",
    "\n",
    "roc_auc_score(y_test, y_pred_P) ## the AUC score does not change between two different trasholds !"
   ]
  },
  {
   "cell_type": "markdown",
   "metadata": {},
   "source": [
    "**What is the AUC score under two different probability thresholds?**\n",
    "\n",
    "_Answer:_\n",
    "AUC’s independence of threshold makes it uniquely qualified for model selection. Therefore the Area Under the Curve will be the same even if the threshold will change from 0.5 to 0.75"
   ]
  },
  {
   "cell_type": "code",
   "execution_count": 34,
   "metadata": {},
   "outputs": [],
   "source": [
    "## compute the learning curve by adjusting the train size (10%, 20%..., 90%, 100%)\n",
    "from sklearn.model_selection import learning_curve\n",
    "train_sizes, train_scores, valid_scores = learning_curve(LogisticRegression(penalty=\"l1\", C=0.1, random_state=42, solver='liblinear'),\n",
    "                                                        X_train, y_train, train_sizes=np.linspace(0.1, 1.0, 10), cv=10)"
   ]
  },
  {
   "cell_type": "code",
   "execution_count": 35,
   "metadata": {},
   "outputs": [
    {
     "data": {
      "image/png": "[encoded data removed]",
      "text/plain": [
       "<Figure size 432x288 with 1 Axes>"
      ]
     },
     "metadata": {
      "needs_background": "light"
     },
     "output_type": "display_data"
    }
   ],
   "source": [
    "plt.figure()\n",
    "   \n",
    "## compute the mean and the standard deviation of the train and valid scores in order to obtain the confidence intervals\n",
    "train_scores_mean = np.mean(train_scores, axis=1)\n",
    "train_scores_std = np.std(train_scores, axis=1)\n",
    "valid_scores_mean = np.mean(valid_scores, axis=1)\n",
    "valid_scores_std = np.std(valid_scores, axis=1)\n",
    "plt.grid()\n",
    "\n",
    "## plot the training score with the standanrd deviation from the mean. \n",
    "plt.fill_between(train_sizes, train_scores_mean - train_scores_std, train_scores_mean + train_scores_std, alpha=0.2, color=\"r\")\n",
    "## plot the CV score with the standanrd deviation from the mean. \n",
    "plt.fill_between(train_sizes, valid_scores_mean - valid_scores_std, valid_scores_mean + valid_scores_std, alpha=0.2, color=\"g\")\n",
    "\n",
    "plt.plot(train_sizes, train_scores_mean, 'o-', color=\"r\", label=\"Training score\")\n",
    "plt.plot(train_sizes, valid_scores_mean, 'o-', color=\"g\", label=\"Cross-validation score\")\n",
    "\n",
    "plt.title(\"Learning Curve\"), plt.xlabel(\"Training Size\"), plt.ylabel(\"Score (mean)\"), plt.legend(loc=\"lower right\")\n",
    "plt.show()"
   ]
  },
  {
   "cell_type": "markdown",
   "metadata": {},
   "source": [
    "From the chart above that the training and test scores are converging while the size of the training increase, so the Logistic Regression with Lasso L1 regularization and inverse alpha C=0.1 benefits from more training data. However, the big variability in the CV means that the model returns error beacuse of the high variance."
   ]
  },
  {
   "cell_type": "markdown",
   "metadata": {},
   "source": [
    "**Question 1.4 (20 points)** Now let's try to use the DecisionTree model to perform the same task. By setting the maximum depth of three to be 100, what do you get in terms of accuracy for train set and test set, respectively, can you explain what might have happened? Now perform cross-validation by setting the following hyperparameter max_depth, max_leaf_nodes and min_sample_split. Report the estimator with the best combination of hyperparameter. "
   ]
  },
  {
   "cell_type": "code",
   "execution_count": 22,
   "metadata": {},
   "outputs": [
    {
     "data": {
      "text/plain": [
       "0.9994932432432433"
      ]
     },
     "execution_count": 22,
     "metadata": {},
     "output_type": "execute_result"
    }
   ],
   "source": [
    "from sklearn.tree import DecisionTreeClassifier\n",
    "## Decision Tree Classification with 100 as max_depth\n",
    "D_tree_class = DecisionTreeClassifier(max_depth=100, random_state=42)\n",
    "D_tree_class.fit(X_train, y_train)\n",
    "\n",
    "## prediction and accuracy on the Train Set\n",
    "y_pred = D_tree_class.predict(X_train)\n",
    "accuracy_score(y_train, y_pred)"
   ]
  },
  {
   "cell_type": "code",
   "execution_count": 23,
   "metadata": {},
   "outputs": [
    {
     "data": {
      "text/plain": [
       "0.7155885830096268"
      ]
     },
     "execution_count": 23,
     "metadata": {},
     "output_type": "execute_result"
    }
   ],
   "source": [
    "## prediction and accuracy on the Test Set\n",
    "y_pred_test = D_tree_class.predict(X_test)\n",
    "accuracy_score(y_test, y_pred_test) "
   ]
  },
  {
   "cell_type": "markdown",
   "metadata": {},
   "source": [
    "**By setting the maximum depth of three to be 100, what do you get in terms of accuracy for train set and test set, respectively, can you explain what might have happened?**\n",
    "\n",
    "_Answer:_\n",
    "As you can se from the high accuracy rate above, predict the class on the Training Set by setting max_depth hyperparameter to 100 will definetly cause an OVERFITTING issue. "
   ]
  },
  {
   "cell_type": "code",
   "execution_count": 24,
   "metadata": {},
   "outputs": [
    {
     "name": "stdout",
     "output_type": "stream",
     "text": [
      "Best parameters found:  {'max_depth': 3, 'max_leaf_nodes': 7, 'min_samples_split': 2}\n",
      "Best maximum depth:  3\n",
      "Best maximum leaf nodes:  7\n",
      "Best minimum samples split:  2\n"
     ]
    }
   ],
   "source": [
    "from sklearn.model_selection import GridSearchCV\n",
    "\n",
    "## create decision tree with the objective of Classification problem\n",
    "D_tree_class = DecisionTreeClassifier()\n",
    "## the list of values below is adjusted in order to get a less computational expensive code\n",
    "# the range() can be adjusted in order to obtain a quicker algorithm for exp. range(2,8,by=2)\n",
    "max_depth = range(2,8)\n",
    "max_leaf_nodes = range(2,8)\n",
    "min_samples_split = range(2,8)\n",
    "## dictionary of hypermarameters\n",
    "hyperparameters = dict(max_depth=max_depth, max_leaf_nodes=max_leaf_nodes, min_samples_split=min_samples_split)\n",
    "\n",
    "## fit your model using gridsearch\n",
    "gridsearch = GridSearchCV(D_tree_class, hyperparameters, cv=10, verbose=0)\n",
    "best_model = gridsearch.fit(X_train, y_train)\n",
    "\n",
    "## print all the Parameters that gave the best results:\n",
    "print('Best parameters found: ',gridsearch.best_params_)\n",
    "\n",
    "print('Best maximum depth: ', best_model.best_estimator_.get_params()['max_depth'])\n",
    "print('Best maximum leaf nodes: ', best_model.best_estimator_.get_params()['max_leaf_nodes'])\n",
    "print('Best minimum samples split: ', best_model.best_estimator_.get_params()['min_samples_split'])"
   ]
  },
  {
   "cell_type": "code",
   "execution_count": 25,
   "metadata": {},
   "outputs": [
    {
     "data": {
      "text/plain": [
       "0.8125316669481506"
      ]
     },
     "execution_count": 25,
     "metadata": {},
     "output_type": "execute_result"
    }
   ],
   "source": [
    "## Decision Tree Classification with the best hypermarameters \n",
    "D_tree_class = DecisionTreeClassifier(max_depth=best_model.best_estimator_.get_params()['max_depth'], max_leaf_nodes = best_model.best_estimator_.get_params()['max_leaf_nodes'], min_samples_split = best_model.best_estimator_.get_params()['min_samples_split'])\n",
    "D_tree_class.fit(X_train, y_train)\n",
    "y_pred = D_tree_class.predict(X_test)\n",
    "accuracy_score(y_test, y_pred)"
   ]
  },
  {
   "cell_type": "markdown",
   "metadata": {},
   "source": [
    "**Question 1.5 (20 points)**  As we know that decision tree is a white-box model, we want to communicate with the manager what features may help explain the model predictions. First, use the feature_importances_ to show the top 3 most important features. Then, use the plot_tree function to visualize the tree structure, explain how would you plan to communicate with the manager about the results obtained from predictive model."
   ]
  },
  {
   "cell_type": "code",
   "execution_count": 26,
   "metadata": {},
   "outputs": [
    {
     "data": {
      "text/html": [
       "<div>\n",
       "<style scoped>\n",
       "    .dataframe tbody tr th:only-of-type {\n",
       "        vertical-align: middle;\n",
       "    }\n",
       "\n",
       "    .dataframe tbody tr th {\n",
       "        vertical-align: top;\n",
       "    }\n",
       "\n",
       "    .dataframe thead th {\n",
       "        text-align: right;\n",
       "    }\n",
       "</style>\n",
       "<table border=\"1\" class=\"dataframe\">\n",
       "  <thead>\n",
       "    <tr style=\"text-align: right;\">\n",
       "      <th></th>\n",
       "      <th>Feature_Importance</th>\n",
       "    </tr>\n",
       "  </thead>\n",
       "  <tbody>\n",
       "    <tr>\n",
       "      <th>PAY_1</th>\n",
       "      <td>0.780803</td>\n",
       "    </tr>\n",
       "    <tr>\n",
       "      <th>PAY_2</th>\n",
       "      <td>0.137134</td>\n",
       "    </tr>\n",
       "    <tr>\n",
       "      <th>PAY_AMT3</th>\n",
       "      <td>0.046537</td>\n",
       "    </tr>\n",
       "    <tr>\n",
       "      <th>PAY_6</th>\n",
       "      <td>0.013083</td>\n",
       "    </tr>\n",
       "    <tr>\n",
       "      <th>PAY_5</th>\n",
       "      <td>0.012096</td>\n",
       "    </tr>\n",
       "    <tr>\n",
       "      <th>BILL_AMT1</th>\n",
       "      <td>0.010347</td>\n",
       "    </tr>\n",
       "    <tr>\n",
       "      <th>MAR1</th>\n",
       "      <td>0.000000</td>\n",
       "    </tr>\n",
       "    <tr>\n",
       "      <th>MAR2</th>\n",
       "      <td>0.000000</td>\n",
       "    </tr>\n",
       "    <tr>\n",
       "      <th>PAY_AMT5</th>\n",
       "      <td>0.000000</td>\n",
       "    </tr>\n",
       "    <tr>\n",
       "      <th>ED4</th>\n",
       "      <td>0.000000</td>\n",
       "    </tr>\n",
       "    <tr>\n",
       "      <th>ED3</th>\n",
       "      <td>0.000000</td>\n",
       "    </tr>\n",
       "    <tr>\n",
       "      <th>ED2</th>\n",
       "      <td>0.000000</td>\n",
       "    </tr>\n",
       "    <tr>\n",
       "      <th>ED1</th>\n",
       "      <td>0.000000</td>\n",
       "    </tr>\n",
       "    <tr>\n",
       "      <th>SEX2</th>\n",
       "      <td>0.000000</td>\n",
       "    </tr>\n",
       "    <tr>\n",
       "      <th>SEX1</th>\n",
       "      <td>0.000000</td>\n",
       "    </tr>\n",
       "    <tr>\n",
       "      <th>PAY_AMT6</th>\n",
       "      <td>0.000000</td>\n",
       "    </tr>\n",
       "    <tr>\n",
       "      <th>LIMIT_BAL</th>\n",
       "      <td>0.000000</td>\n",
       "    </tr>\n",
       "    <tr>\n",
       "      <th>PAY_AMT1</th>\n",
       "      <td>0.000000</td>\n",
       "    </tr>\n",
       "    <tr>\n",
       "      <th>PAY_AMT4</th>\n",
       "      <td>0.000000</td>\n",
       "    </tr>\n",
       "    <tr>\n",
       "      <th>PAY_AMT2</th>\n",
       "      <td>0.000000</td>\n",
       "    </tr>\n",
       "    <tr>\n",
       "      <th>AGE</th>\n",
       "      <td>0.000000</td>\n",
       "    </tr>\n",
       "    <tr>\n",
       "      <th>BILL_AMT6</th>\n",
       "      <td>0.000000</td>\n",
       "    </tr>\n",
       "    <tr>\n",
       "      <th>BILL_AMT5</th>\n",
       "      <td>0.000000</td>\n",
       "    </tr>\n",
       "    <tr>\n",
       "      <th>BILL_AMT4</th>\n",
       "      <td>0.000000</td>\n",
       "    </tr>\n",
       "    <tr>\n",
       "      <th>BILL_AMT3</th>\n",
       "      <td>0.000000</td>\n",
       "    </tr>\n",
       "    <tr>\n",
       "      <th>BILL_AMT2</th>\n",
       "      <td>0.000000</td>\n",
       "    </tr>\n",
       "    <tr>\n",
       "      <th>PAY_4</th>\n",
       "      <td>0.000000</td>\n",
       "    </tr>\n",
       "    <tr>\n",
       "      <th>PAY_3</th>\n",
       "      <td>0.000000</td>\n",
       "    </tr>\n",
       "    <tr>\n",
       "      <th>MAR3</th>\n",
       "      <td>0.000000</td>\n",
       "    </tr>\n",
       "  </tbody>\n",
       "</table>\n",
       "</div>"
      ],
      "text/plain": [
       "           Feature_Importance\n",
       "PAY_1                0.780803\n",
       "PAY_2                0.137134\n",
       "PAY_AMT3             0.046537\n",
       "PAY_6                0.013083\n",
       "PAY_5                0.012096\n",
       "BILL_AMT1            0.010347\n",
       "MAR1                 0.000000\n",
       "MAR2                 0.000000\n",
       "PAY_AMT5             0.000000\n",
       "ED4                  0.000000\n",
       "ED3                  0.000000\n",
       "ED2                  0.000000\n",
       "ED1                  0.000000\n",
       "SEX2                 0.000000\n",
       "SEX1                 0.000000\n",
       "PAY_AMT6             0.000000\n",
       "LIMIT_BAL            0.000000\n",
       "PAY_AMT1             0.000000\n",
       "PAY_AMT4             0.000000\n",
       "PAY_AMT2             0.000000\n",
       "AGE                  0.000000\n",
       "BILL_AMT6            0.000000\n",
       "BILL_AMT5            0.000000\n",
       "BILL_AMT4            0.000000\n",
       "BILL_AMT3            0.000000\n",
       "BILL_AMT2            0.000000\n",
       "PAY_4                0.000000\n",
       "PAY_3                0.000000\n",
       "MAR3                 0.000000"
      ]
     },
     "execution_count": 26,
     "metadata": {},
     "output_type": "execute_result"
    }
   ],
   "source": [
    "df_tree=pd.DataFrame(D_tree_class.feature_importances_, index=[ 'LIMIT_BAL','AGE', 'PAY_1', 'PAY_2',\n",
    "       'PAY_3', 'PAY_4', 'PAY_5', 'PAY_6', 'BILL_AMT1', 'BILL_AMT2',\n",
    "       'BILL_AMT3', 'BILL_AMT4', 'BILL_AMT5', 'BILL_AMT6', 'PAY_AMT1',\n",
    "       'PAY_AMT2', 'PAY_AMT3', 'PAY_AMT4', 'PAY_AMT5', 'PAY_AMT6','SEX1','SEX2',\n",
    "                'ED1', 'ED2', 'ED3', 'ED4', 'MAR1', 'MAR2', 'MAR3'], columns=[\"Feature_Importance\"])\n",
    "df_tree.sort_values(by=[\"Feature_Importance\"],ascending=False)"
   ]
  },
  {
   "cell_type": "code",
   "execution_count": 27,
   "metadata": {},
   "outputs": [
    {
     "data": {
      "text/plain": [
       "[Text(482.8846153846154, 570.7800000000001, 'PAY_1 <= 1.5\\nentropy = 0.346\\nsamples = 23680\\nvalue = [18405, 5275]'),\n",
       " Text(257.53846153846155, 407.70000000000005, 'PAY_2 <= 1.5\\nentropy = 0.276\\nsamples = 21175\\nvalue = [17668, 3507]'),\n",
       " Text(128.76923076923077, 244.62, 'PAY_AMT3 <= 803.5\\nentropy = 0.245\\nsamples = 19382\\nvalue = [16606, 2776]'),\n",
       " Text(64.38461538461539, 81.53999999999996, 'entropy = 0.336\\nsamples = 5631\\nvalue = [4430, 1201]'),\n",
       " Text(193.15384615384616, 81.53999999999996, 'entropy = 0.203\\nsamples = 13751\\nvalue = [12176, 1575]'),\n",
       " Text(386.3076923076923, 244.62, 'PAY_5 <= 1.0\\nentropy = 0.483\\nsamples = 1793\\nvalue = [1062, 731]'),\n",
       " Text(321.9230769230769, 81.53999999999996, 'entropy = 0.459\\nsamples = 1237\\nvalue = [795, 442]'),\n",
       " Text(450.69230769230774, 81.53999999999996, 'entropy = 0.499\\nsamples = 556\\nvalue = [267, 289]'),\n",
       " Text(708.2307692307693, 407.70000000000005, 'PAY_6 <= 1.0\\nentropy = 0.415\\nsamples = 2505\\nvalue = [737, 1768]'),\n",
       " Text(643.8461538461538, 244.62, 'BILL_AMT1 <= 779.0\\nentropy = 0.454\\nsamples = 1484\\nvalue = [518, 966]'),\n",
       " Text(579.4615384615385, 81.53999999999996, 'entropy = 0.432\\nsamples = 73\\nvalue = [50, 23]'),\n",
       " Text(708.2307692307693, 81.53999999999996, 'entropy = 0.443\\nsamples = 1411\\nvalue = [468, 943]'),\n",
       " Text(772.6153846153846, 244.62, 'entropy = 0.337\\nsamples = 1021\\nvalue = [219, 802]')]"
      ]
     },
     "execution_count": 27,
     "metadata": {},
     "output_type": "execute_result"
    },
    {
     "data": {
      "image/png": "[encoded data removed]",
      "text/plain": [
       "<Figure size 1080x864 with 1 Axes>"
      ]
     },
     "metadata": {
      "needs_background": "light"
     },
     "output_type": "display_data"
    }
   ],
   "source": [
    "from sklearn import tree\n",
    "\n",
    "## visualization of the best Decision Tree (Classification)\n",
    "plt.figure(figsize=(15, 12))\n",
    "tree.plot_tree(D_tree_class, feature_names=X_train.columns, filled=True)"
   ]
  },
  {
   "cell_type": "markdown",
   "metadata": {},
   "source": [
    "My reccommendation to the manager is the following:\n",
    "if the client in the month of September 2005 & August 2005 is delay no more than 1.5 month for the payment, at the same time if on July 2005 the client's amount previusly paid is not exceed 803.5 NT Dollar than the client is SOLVENT."
   ]
  }
 ],
 "metadata": {
  "kernelspec": {
   "display_name": "Python 3",
   "language": "python",
   "name": "python3"
  },
  "language_info": {
   "codemirror_mode": {
    "name": "ipython",
    "version": 3
   },
   "file_extension": ".py",
   "mimetype": "text/x-python",
   "name": "python",
   "nbconvert_exporter": "python",
   "pygments_lexer": "ipython3",
   "version": "3.7.3"
  }
 },
 "nbformat": 4,
 "nbformat_minor": 2
}
